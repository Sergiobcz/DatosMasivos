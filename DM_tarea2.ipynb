{
  "nbformat": 4,
  "nbformat_minor": 0,
  "metadata": {
    "colab": {
      "provenance": []
    },
    "kernelspec": {
      "name": "python3",
      "display_name": "Python 3"
    },
    "language_info": {
      "name": "python"
    }
  },
  "cells": [
    {
      "cell_type": "code",
      "execution_count": 1,
      "metadata": {
        "colab": {
          "base_uri": "https://localhost:8080/"
        },
        "id": "WKKPzRuSPqOw",
        "outputId": "9cd50c1a-f120-42bd-bbec-c87137ae3139"
      },
      "outputs": [
        {
          "output_type": "stream",
          "name": "stdout",
          "text": [
            "\u001b[33m\r0% [Working]\u001b[0m\r            \rGet:1 http://security.ubuntu.com/ubuntu jammy-security InRelease [129 kB]\n",
            "\u001b[33m\r0% [Connecting to archive.ubuntu.com (185.125.190.83)] [1 InRelease 12.7 kB/129\u001b[0m\u001b[33m\r0% [Connecting to archive.ubuntu.com (185.125.190.83)] [Connected to cloud.r-pr\u001b[0m\r                                                                               \rGet:2 https://cloud.r-project.org/bin/linux/ubuntu jammy-cran40/ InRelease [3,626 B]\n",
            "Get:3 https://developer.download.nvidia.com/compute/cuda/repos/ubuntu2204/x86_64  InRelease [1,581 B]\n",
            "Hit:4 http://archive.ubuntu.com/ubuntu jammy InRelease\n",
            "Get:5 https://r2u.stat.illinois.edu/ubuntu jammy InRelease [6,555 B]\n",
            "Get:6 http://archive.ubuntu.com/ubuntu jammy-updates InRelease [128 kB]\n",
            "Get:7 http://security.ubuntu.com/ubuntu jammy-security/universe amd64 Packages [1,163 kB]\n",
            "Get:8 http://security.ubuntu.com/ubuntu jammy-security/main amd64 Packages [2,391 kB]\n",
            "Hit:9 https://ppa.launchpadcontent.net/deadsnakes/ppa/ubuntu jammy InRelease\n",
            "Hit:10 https://ppa.launchpadcontent.net/graphics-drivers/ppa/ubuntu jammy InRelease\n",
            "Get:11 http://archive.ubuntu.com/ubuntu jammy-backports InRelease [127 kB]\n",
            "Hit:12 https://ppa.launchpadcontent.net/ubuntugis/ppa/ubuntu jammy InRelease\n",
            "Get:13 https://cloud.r-project.org/bin/linux/ubuntu jammy-cran40/ Packages [59.5 kB]\n",
            "Get:14 https://developer.download.nvidia.com/compute/cuda/repos/ubuntu2204/x86_64  Packages [1,107 kB]\n",
            "Get:15 https://r2u.stat.illinois.edu/ubuntu jammy/main all Packages [8,446 kB]\n",
            "Get:16 https://r2u.stat.illinois.edu/ubuntu jammy/main amd64 Packages [2,610 kB]\n",
            "Get:17 http://archive.ubuntu.com/ubuntu jammy-updates/restricted amd64 Packages [3,319 kB]\n",
            "Get:18 http://archive.ubuntu.com/ubuntu jammy-updates/main amd64 Packages [2,672 kB]\n",
            "Get:19 http://archive.ubuntu.com/ubuntu jammy-updates/universe amd64 Packages [1,452 kB]\n",
            "Fetched 23.6 MB in 7s (3,218 kB/s)\n",
            "Reading package lists... Done\n",
            "Building dependency tree... Done\n",
            "Reading state information... Done\n",
            "59 packages can be upgraded. Run 'apt list --upgradable' to see them.\n",
            "\u001b[1;33mW: \u001b[0mSkipping acquire of configured file 'main/source/Sources' as repository 'https://r2u.stat.illinois.edu/ubuntu jammy InRelease' does not seem to provide it (sources.list entry misspelt?)\u001b[0m\n",
            "Requirement already satisfied: pyspark in /usr/local/lib/python3.10/dist-packages (3.5.3)\n",
            "Requirement already satisfied: py4j==0.10.9.7 in /usr/local/lib/python3.10/dist-packages (from pyspark) (0.10.9.7)\n",
            "Requirement already satisfied: py4j in /usr/local/lib/python3.10/dist-packages (0.10.9.7)\n"
          ]
        }
      ],
      "source": [
        "!sudo apt update\n",
        "!apt-get install openjdk-8-jdk-headless -qq > /dev/null\n",
        "#Check this site for the latest download link https://www.apache.org/dyn/closer.lua/spark/spark-3.2.1/spark-3.2.1-bin-hadoop3.2.tgz\n",
        "!wget -q https://archive.apache.org/dist/spark/spark-3.2.1/spark-3.2.1-bin-hadoop3.2.tgz\n",
        "!tar xf spark-3.2.1-bin-hadoop3.2.tgz\n",
        "!pip install -q findspark\n",
        "!pip install pyspark\n",
        "!pip install py4j\n",
        "\n",
        "import os\n",
        "import sys\n",
        "\n",
        "import findspark\n",
        "findspark.init()\n",
        "findspark.find()\n",
        "\n",
        "from pyspark import SparkContext"
      ]
    },
    {
      "cell_type": "code",
      "source": [
        "sc = SparkContext(\"local\", \"RDDs\") #iniciar contexto de spark"
      ],
      "metadata": {
        "id": "rYBasnJFPxUJ"
      },
      "execution_count": 2,
      "outputs": []
    },
    {
      "cell_type": "code",
      "source": [
        "rdd = sc.textFile(\"/Movies.csv\") #crear el RDD\n"
      ],
      "metadata": {
        "id": "08xLThA8P0NH"
      },
      "execution_count": 163,
      "outputs": []
    },
    {
      "cell_type": "code",
      "source": [
        "rdd.take(2) #vistazo del RDD"
      ],
      "metadata": {
        "colab": {
          "base_uri": "https://localhost:8080/"
        },
        "collapsed": true,
        "id": "UfUo0RUJQBcA",
        "outputId": "9e820f9e-a489-4575-f732-c2fa581deda0"
      },
      "execution_count": 153,
      "outputs": [
        {
          "output_type": "execute_result",
          "data": {
            "text/plain": [
              "['movie_id,title,vote_average,vote_count,status,release_date,revenue,adult,budget,imdb_id,original_language,original_title,overview,popularity,genres,production_companies,production_countries,spoken_languages',\n",
              " '4520010,Inception,8.364,34495,Released,7/15/2010,825532764,FALSE,160000000,tt1375666,en,Inception,\"Cobb a skilled thief who commits corporate espionage by infiltrating the subconscious of his targets is offered a chance to regain his old life as payment for a task considered to be impossible: \"\"inception\"\" the implantation of another persons idea into a targets subconscious.\",83.952,Action Science Fiction Adventure,Legendary Pictures Syncopy Warner Bros. Pictures,United Kingdom United States of America,English French Japanese Swahili']"
            ]
          },
          "metadata": {},
          "execution_count": 153
        }
      ]
    },
    {
      "cell_type": "code",
      "source": [
        "rdd.count()"
      ],
      "metadata": {
        "colab": {
          "base_uri": "https://localhost:8080/"
        },
        "id": "YodHoQ_YZuZy",
        "outputId": "90c64a71-39d5-486c-f9c2-c8cec77b1b13"
      },
      "execution_count": 154,
      "outputs": [
        {
          "output_type": "execute_result",
          "data": {
            "text/plain": [
              "1048576"
            ]
          },
          "metadata": {},
          "execution_count": 154
        }
      ]
    },
    {
      "cell_type": "code",
      "source": [
        "rdd_split = rdd.map(lambda line: line.split(\",\"))\n"
      ],
      "metadata": {
        "id": "XtE_tTgEQoHA"
      },
      "execution_count": 164,
      "outputs": []
    },
    {
      "cell_type": "code",
      "source": [
        "rdd_split.first()"
      ],
      "metadata": {
        "colab": {
          "base_uri": "https://localhost:8080/"
        },
        "id": "Rw8m9R-BcRYM",
        "outputId": "06f5a953-208d-46a1-b034-4a380c185284"
      },
      "execution_count": 165,
      "outputs": [
        {
          "output_type": "execute_result",
          "data": {
            "text/plain": [
              "['movie_id',\n",
              " 'title',\n",
              " 'vote_average',\n",
              " 'vote_count',\n",
              " 'status',\n",
              " 'release_date',\n",
              " 'revenue',\n",
              " 'adult',\n",
              " 'budget',\n",
              " 'imdb_id',\n",
              " 'original_language',\n",
              " 'original_title',\n",
              " 'overview',\n",
              " 'popularity',\n",
              " 'genres',\n",
              " 'production_companies',\n",
              " 'production_countries',\n",
              " 'spoken_languages']"
            ]
          },
          "metadata": {},
          "execution_count": 165
        }
      ]
    },
    {
      "cell_type": "code",
      "source": [
        "# Eliminar la primera fila (encabezado)\n",
        "header = rdd_split.first()  # Obtener el encabezado\n",
        "rdd = rdd_split.filter(lambda row: row != header)  # Filtrar el encabezado"
      ],
      "metadata": {
        "collapsed": true,
        "id": "oWszEE8oRFwY"
      },
      "execution_count": 166,
      "outputs": []
    },
    {
      "cell_type": "code",
      "source": [
        "rdd.count()"
      ],
      "metadata": {
        "colab": {
          "base_uri": "https://localhost:8080/"
        },
        "collapsed": true,
        "id": "2AWfs88mWpi6",
        "outputId": "a7dc1066-a53d-4b70-9135-464492254f8d"
      },
      "execution_count": 168,
      "outputs": [
        {
          "output_type": "execute_result",
          "data": {
            "text/plain": [
              "1048575"
            ]
          },
          "metadata": {},
          "execution_count": 168
        }
      ]
    },
    {
      "cell_type": "code",
      "source": [
        "rdd_filtered = rdd.filter(lambda row: \"\" not in row) #Limpieza de los datos\n",
        "rdd_filtered.count()"
      ],
      "metadata": {
        "colab": {
          "base_uri": "https://localhost:8080/"
        },
        "id": "5lKn7cVI_OFD",
        "outputId": "d6ad7575-c553-4f2d-b018-0f8112018951"
      },
      "execution_count": 169,
      "outputs": [
        {
          "output_type": "execute_result",
          "data": {
            "text/plain": [
              "224173"
            ]
          },
          "metadata": {},
          "execution_count": 169
        }
      ]
    },
    {
      "cell_type": "code",
      "source": [
        "def try_convert_to_float(val):\n",
        "    try:\n",
        "        return float(val)\n",
        "    except ValueError:\n",
        "        return None  # Devolver None si no se puede convertir"
      ],
      "metadata": {
        "id": "70ydsOktdKqz"
      },
      "execution_count": 170,
      "outputs": []
    },
    {
      "cell_type": "code",
      "source": [
        "rdd_cleaned = rdd.map(lambda row: [\n",
        "\n",
        "    row[0],  # movie_id (lo dejamos como está, ya que es un identificador)\n",
        "    row[1],  # title (también lo dejamos como está\n",
        "    try_convert_to_float(row[2]),  # vote_average\n",
        "    try_convert_to_float(row[3]),  # vote_count\n",
        "    row[4],  # status (texto)\n",
        "    row[5],  # release_date\n",
        "    try_convert_to_float(row[6]),  # revenue\n",
        "    row[7], #si es de adultos o no\n",
        "    try_convert_to_float(row[8]),  # budget\n",
        "    row[9],  # imdb_id\n",
        "    row[10], # original_language\n",
        "    row[11], # original_title\n",
        "    row[12], # overview\n",
        "    try_convert_to_float(row[13]),  # popularity\n",
        "    row[14], # genres (texto)\n",
        "    row[15], # production_companies\n",
        "    row[16], # production_countries\n",
        "    row[17]  # spoken_languages\n",
        "])"
      ],
      "metadata": {
        "id": "dE9XzX8DdRrV"
      },
      "execution_count": 173,
      "outputs": []
    },
    {
      "cell_type": "code",
      "source": [
        "rdd_cleaned.take(2) #vISTAZO A LOS DATOS YA CONVERTIDOS"
      ],
      "metadata": {
        "colab": {
          "base_uri": "https://localhost:8080/"
        },
        "id": "DKrtLKyAeJPJ",
        "outputId": "a5e6fb6f-df59-40a5-cc42-944ad1ffe5ba"
      },
      "execution_count": 175,
      "outputs": [
        {
          "output_type": "execute_result",
          "data": {
            "text/plain": [
              "[['4520010',\n",
              "  'Inception',\n",
              "  8.364,\n",
              "  34495.0,\n",
              "  'Released',\n",
              "  '7/15/2010',\n",
              "  825532764.0,\n",
              "  'FALSE',\n",
              "  160000000.0,\n",
              "  'tt1375666',\n",
              "  'en',\n",
              "  'Inception',\n",
              "  '\"Cobb a skilled thief who commits corporate espionage by infiltrating the subconscious of his targets is offered a chance to regain his old life as payment for a task considered to be impossible: \"\"inception\"\" the implantation of another persons idea into a targets subconscious.\"',\n",
              "  83.952,\n",
              "  'Action Science Fiction Adventure',\n",
              "  'Legendary Pictures Syncopy Warner Bros. Pictures',\n",
              "  'United Kingdom United States of America',\n",
              "  'English French Japanese Swahili'],\n",
              " ['4520011',\n",
              "  'Interstellar',\n",
              "  8.417,\n",
              "  32571.0,\n",
              "  'Released',\n",
              "  '11/05/2014',\n",
              "  701729206.0,\n",
              "  'FALSE',\n",
              "  165000000.0,\n",
              "  'tt0816692',\n",
              "  'en',\n",
              "  'Interstellar',\n",
              "  'The adventures of a group of explorers who make use of a newly discovered wormhole to surpass the limitations on human space travel and conquer the vast distances involved in an interstellar voyage.',\n",
              "  140.241,\n",
              "  'Adventure Drama Science Fiction',\n",
              "  'Legendary Pictures Syncopy Lynda Obst Productions',\n",
              "  'United Kingdom United States of America',\n",
              "  'English']]"
            ]
          },
          "metadata": {},
          "execution_count": 175
        }
      ]
    },
    {
      "cell_type": "code",
      "source": [
        "rdd_filtered = rdd_cleaned.filter(lambda row: None not in row)  # Filtrar filas con None en las primeras columnas numéricas\n"
      ],
      "metadata": {
        "id": "g6p9rQV9jUFF"
      },
      "execution_count": 178,
      "outputs": []
    },
    {
      "cell_type": "markdown",
      "source": [
        "Estadisticas"
      ],
      "metadata": {
        "id": "zFdwoxvxi-vm"
      }
    },
    {
      "cell_type": "code",
      "source": [
        "votos = rdd_filtered.map(lambda x: x[2])#separo los datos de los votos que se encuentran en la columna 3"
      ],
      "metadata": {
        "id": "H_FPErahjALG"
      },
      "execution_count": 179,
      "outputs": []
    },
    {
      "cell_type": "code",
      "source": [
        "media_votos = votos.mean()"
      ],
      "metadata": {
        "id": "EB2g-N0ajJKf"
      },
      "execution_count": 180,
      "outputs": []
    },
    {
      "cell_type": "code",
      "source": [
        "print(\"La media de los votos promedios es: \",media_votos)"
      ],
      "metadata": {
        "colab": {
          "base_uri": "https://localhost:8080/"
        },
        "id": "aOj5Y-nHkBfu",
        "outputId": "105cb26b-6c2c-4d20-ab32-17cbadf6686b"
      },
      "execution_count": 181,
      "outputs": [
        {
          "output_type": "stream",
          "name": "stdout",
          "text": [
            "La media de los votos promedios es:  2.0248744261188203\n"
          ]
        }
      ]
    },
    {
      "cell_type": "code",
      "source": [
        "desv_est = votos.stdev()\n",
        "print(\"La desviación estandar de los votos promedio es: \", desv_est)"
      ],
      "metadata": {
        "colab": {
          "base_uri": "https://localhost:8080/"
        },
        "id": "XTkx6QEYkMjv",
        "outputId": "cef60a52-20ca-4064-fc3c-b14f9e19d9a4"
      },
      "execution_count": 183,
      "outputs": [
        {
          "output_type": "stream",
          "name": "stdout",
          "text": [
            "La desviación estandar de los votos promedio es:  3.0841537572486155\n"
          ]
        }
      ]
    },
    {
      "cell_type": "code",
      "source": [
        "min_vots = votos.min()\n",
        "print(\"El voto minimo es: \", min_vots)\n",
        "\n",
        "max_votosd = votos.max()\n",
        "print(\"El voto maximo es: \", max_votosd)"
      ],
      "metadata": {
        "colab": {
          "base_uri": "https://localhost:8080/"
        },
        "id": "GJ_AXpmIkxN4",
        "outputId": "de3b5be7-4ec5-4591-d14f-0829ef390131"
      },
      "execution_count": 184,
      "outputs": [
        {
          "output_type": "stream",
          "name": "stdout",
          "text": [
            "El voto minimo es:  0.0\n",
            "El voto maximo es:  10.0\n"
          ]
        }
      ]
    },
    {
      "cell_type": "markdown",
      "source": [
        "Data frame"
      ],
      "metadata": {
        "id": "TIj4VTe-lE3u"
      }
    },
    {
      "cell_type": "code",
      "source": [
        "import pandas as pd\n"
      ],
      "metadata": {
        "id": "jJz2MsPvlA6e"
      },
      "execution_count": 185,
      "outputs": []
    },
    {
      "cell_type": "code",
      "source": [
        "rdd_list = rdd_filtered.collect()"
      ],
      "metadata": {
        "id": "PcMCmJz9lIb-"
      },
      "execution_count": 186,
      "outputs": []
    },
    {
      "cell_type": "code",
      "source": [
        "col = ['movie_id',\n",
        " 'title',\n",
        " 'vote_average',\n",
        " 'vote_count',\n",
        " 'status',\n",
        " 'release_date',\n",
        " 'revenue',\n",
        " 'adult',\n",
        " 'budget',\n",
        " 'imdb_id',\n",
        " 'original_language',\n",
        " 'original_title',\n",
        " 'overview',\n",
        " 'popularity',\n",
        " 'genres',\n",
        " 'production_companies',\n",
        " 'production_countries',\n",
        " 'spoken_languages']"
      ],
      "metadata": {
        "id": "cX9gFOQNlSSw"
      },
      "execution_count": 187,
      "outputs": []
    },
    {
      "cell_type": "code",
      "source": [
        "df = pd.DataFrame(rdd_list, columns=col)"
      ],
      "metadata": {
        "id": "leNCPGNIlaQB"
      },
      "execution_count": 192,
      "outputs": []
    },
    {
      "cell_type": "code",
      "source": [
        "df.describe() #estadisticas basicas de los datos numéricos"
      ],
      "metadata": {
        "colab": {
          "base_uri": "https://localhost:8080/",
          "height": 300
        },
        "id": "0wKw3N2WlyOx",
        "outputId": "10079196-1b6b-429d-aa03-e5ecd8805027"
      },
      "execution_count": 194,
      "outputs": [
        {
          "output_type": "execute_result",
          "data": {
            "text/plain": [
              "       vote_average    vote_count       revenue        budget    popularity\n",
              "count  1.048562e+06  1.048562e+06  1.048562e+06  1.048562e+06  1.048562e+06\n",
              "mean   2.024874e+00  2.045397e+01  7.395269e+05  2.860877e+05  1.294019e+00\n",
              "std    3.084155e+00  3.315691e+02  1.846230e+07  5.124808e+06  7.891276e+00\n",
              "min    0.000000e+00  0.000000e+00 -1.200000e+01  0.000000e+00  0.000000e+00\n",
              "25%    0.000000e+00  0.000000e+00  0.000000e+00  0.000000e+00  6.000000e-01\n",
              "50%    0.000000e+00  0.000000e+00  0.000000e+00  0.000000e+00  6.000000e-01\n",
              "75%    5.000000e+00  1.000000e+00  0.000000e+00  0.000000e+00  8.960000e-01\n",
              "max    1.000000e+01  3.449500e+04  3.000000e+09  9.000000e+08  2.994357e+03"
            ],
            "text/html": [
              "\n",
              "  <div id=\"df-17f948ec-087b-425d-a5f1-f9e843561759\" class=\"colab-df-container\">\n",
              "    <div>\n",
              "<style scoped>\n",
              "    .dataframe tbody tr th:only-of-type {\n",
              "        vertical-align: middle;\n",
              "    }\n",
              "\n",
              "    .dataframe tbody tr th {\n",
              "        vertical-align: top;\n",
              "    }\n",
              "\n",
              "    .dataframe thead th {\n",
              "        text-align: right;\n",
              "    }\n",
              "</style>\n",
              "<table border=\"1\" class=\"dataframe\">\n",
              "  <thead>\n",
              "    <tr style=\"text-align: right;\">\n",
              "      <th></th>\n",
              "      <th>vote_average</th>\n",
              "      <th>vote_count</th>\n",
              "      <th>revenue</th>\n",
              "      <th>budget</th>\n",
              "      <th>popularity</th>\n",
              "    </tr>\n",
              "  </thead>\n",
              "  <tbody>\n",
              "    <tr>\n",
              "      <th>count</th>\n",
              "      <td>1.048562e+06</td>\n",
              "      <td>1.048562e+06</td>\n",
              "      <td>1.048562e+06</td>\n",
              "      <td>1.048562e+06</td>\n",
              "      <td>1.048562e+06</td>\n",
              "    </tr>\n",
              "    <tr>\n",
              "      <th>mean</th>\n",
              "      <td>2.024874e+00</td>\n",
              "      <td>2.045397e+01</td>\n",
              "      <td>7.395269e+05</td>\n",
              "      <td>2.860877e+05</td>\n",
              "      <td>1.294019e+00</td>\n",
              "    </tr>\n",
              "    <tr>\n",
              "      <th>std</th>\n",
              "      <td>3.084155e+00</td>\n",
              "      <td>3.315691e+02</td>\n",
              "      <td>1.846230e+07</td>\n",
              "      <td>5.124808e+06</td>\n",
              "      <td>7.891276e+00</td>\n",
              "    </tr>\n",
              "    <tr>\n",
              "      <th>min</th>\n",
              "      <td>0.000000e+00</td>\n",
              "      <td>0.000000e+00</td>\n",
              "      <td>-1.200000e+01</td>\n",
              "      <td>0.000000e+00</td>\n",
              "      <td>0.000000e+00</td>\n",
              "    </tr>\n",
              "    <tr>\n",
              "      <th>25%</th>\n",
              "      <td>0.000000e+00</td>\n",
              "      <td>0.000000e+00</td>\n",
              "      <td>0.000000e+00</td>\n",
              "      <td>0.000000e+00</td>\n",
              "      <td>6.000000e-01</td>\n",
              "    </tr>\n",
              "    <tr>\n",
              "      <th>50%</th>\n",
              "      <td>0.000000e+00</td>\n",
              "      <td>0.000000e+00</td>\n",
              "      <td>0.000000e+00</td>\n",
              "      <td>0.000000e+00</td>\n",
              "      <td>6.000000e-01</td>\n",
              "    </tr>\n",
              "    <tr>\n",
              "      <th>75%</th>\n",
              "      <td>5.000000e+00</td>\n",
              "      <td>1.000000e+00</td>\n",
              "      <td>0.000000e+00</td>\n",
              "      <td>0.000000e+00</td>\n",
              "      <td>8.960000e-01</td>\n",
              "    </tr>\n",
              "    <tr>\n",
              "      <th>max</th>\n",
              "      <td>1.000000e+01</td>\n",
              "      <td>3.449500e+04</td>\n",
              "      <td>3.000000e+09</td>\n",
              "      <td>9.000000e+08</td>\n",
              "      <td>2.994357e+03</td>\n",
              "    </tr>\n",
              "  </tbody>\n",
              "</table>\n",
              "</div>\n",
              "    <div class=\"colab-df-buttons\">\n",
              "\n",
              "  <div class=\"colab-df-container\">\n",
              "    <button class=\"colab-df-convert\" onclick=\"convertToInteractive('df-17f948ec-087b-425d-a5f1-f9e843561759')\"\n",
              "            title=\"Convert this dataframe to an interactive table.\"\n",
              "            style=\"display:none;\">\n",
              "\n",
              "  <svg xmlns=\"http://www.w3.org/2000/svg\" height=\"24px\" viewBox=\"0 -960 960 960\">\n",
              "    <path d=\"M120-120v-720h720v720H120Zm60-500h600v-160H180v160Zm220 220h160v-160H400v160Zm0 220h160v-160H400v160ZM180-400h160v-160H180v160Zm440 0h160v-160H620v160ZM180-180h160v-160H180v160Zm440 0h160v-160H620v160Z\"/>\n",
              "  </svg>\n",
              "    </button>\n",
              "\n",
              "  <style>\n",
              "    .colab-df-container {\n",
              "      display:flex;\n",
              "      gap: 12px;\n",
              "    }\n",
              "\n",
              "    .colab-df-convert {\n",
              "      background-color: #E8F0FE;\n",
              "      border: none;\n",
              "      border-radius: 50%;\n",
              "      cursor: pointer;\n",
              "      display: none;\n",
              "      fill: #1967D2;\n",
              "      height: 32px;\n",
              "      padding: 0 0 0 0;\n",
              "      width: 32px;\n",
              "    }\n",
              "\n",
              "    .colab-df-convert:hover {\n",
              "      background-color: #E2EBFA;\n",
              "      box-shadow: 0px 1px 2px rgba(60, 64, 67, 0.3), 0px 1px 3px 1px rgba(60, 64, 67, 0.15);\n",
              "      fill: #174EA6;\n",
              "    }\n",
              "\n",
              "    .colab-df-buttons div {\n",
              "      margin-bottom: 4px;\n",
              "    }\n",
              "\n",
              "    [theme=dark] .colab-df-convert {\n",
              "      background-color: #3B4455;\n",
              "      fill: #D2E3FC;\n",
              "    }\n",
              "\n",
              "    [theme=dark] .colab-df-convert:hover {\n",
              "      background-color: #434B5C;\n",
              "      box-shadow: 0px 1px 3px 1px rgba(0, 0, 0, 0.15);\n",
              "      filter: drop-shadow(0px 1px 2px rgba(0, 0, 0, 0.3));\n",
              "      fill: #FFFFFF;\n",
              "    }\n",
              "  </style>\n",
              "\n",
              "    <script>\n",
              "      const buttonEl =\n",
              "        document.querySelector('#df-17f948ec-087b-425d-a5f1-f9e843561759 button.colab-df-convert');\n",
              "      buttonEl.style.display =\n",
              "        google.colab.kernel.accessAllowed ? 'block' : 'none';\n",
              "\n",
              "      async function convertToInteractive(key) {\n",
              "        const element = document.querySelector('#df-17f948ec-087b-425d-a5f1-f9e843561759');\n",
              "        const dataTable =\n",
              "          await google.colab.kernel.invokeFunction('convertToInteractive',\n",
              "                                                    [key], {});\n",
              "        if (!dataTable) return;\n",
              "\n",
              "        const docLinkHtml = 'Like what you see? Visit the ' +\n",
              "          '<a target=\"_blank\" href=https://colab.research.google.com/notebooks/data_table.ipynb>data table notebook</a>'\n",
              "          + ' to learn more about interactive tables.';\n",
              "        element.innerHTML = '';\n",
              "        dataTable['output_type'] = 'display_data';\n",
              "        await google.colab.output.renderOutput(dataTable, element);\n",
              "        const docLink = document.createElement('div');\n",
              "        docLink.innerHTML = docLinkHtml;\n",
              "        element.appendChild(docLink);\n",
              "      }\n",
              "    </script>\n",
              "  </div>\n",
              "\n",
              "\n",
              "<div id=\"df-cb63166b-ea1e-4e0a-8a8c-e7d7b850efa2\">\n",
              "  <button class=\"colab-df-quickchart\" onclick=\"quickchart('df-cb63166b-ea1e-4e0a-8a8c-e7d7b850efa2')\"\n",
              "            title=\"Suggest charts\"\n",
              "            style=\"display:none;\">\n",
              "\n",
              "<svg xmlns=\"http://www.w3.org/2000/svg\" height=\"24px\"viewBox=\"0 0 24 24\"\n",
              "     width=\"24px\">\n",
              "    <g>\n",
              "        <path d=\"M19 3H5c-1.1 0-2 .9-2 2v14c0 1.1.9 2 2 2h14c1.1 0 2-.9 2-2V5c0-1.1-.9-2-2-2zM9 17H7v-7h2v7zm4 0h-2V7h2v10zm4 0h-2v-4h2v4z\"/>\n",
              "    </g>\n",
              "</svg>\n",
              "  </button>\n",
              "\n",
              "<style>\n",
              "  .colab-df-quickchart {\n",
              "      --bg-color: #E8F0FE;\n",
              "      --fill-color: #1967D2;\n",
              "      --hover-bg-color: #E2EBFA;\n",
              "      --hover-fill-color: #174EA6;\n",
              "      --disabled-fill-color: #AAA;\n",
              "      --disabled-bg-color: #DDD;\n",
              "  }\n",
              "\n",
              "  [theme=dark] .colab-df-quickchart {\n",
              "      --bg-color: #3B4455;\n",
              "      --fill-color: #D2E3FC;\n",
              "      --hover-bg-color: #434B5C;\n",
              "      --hover-fill-color: #FFFFFF;\n",
              "      --disabled-bg-color: #3B4455;\n",
              "      --disabled-fill-color: #666;\n",
              "  }\n",
              "\n",
              "  .colab-df-quickchart {\n",
              "    background-color: var(--bg-color);\n",
              "    border: none;\n",
              "    border-radius: 50%;\n",
              "    cursor: pointer;\n",
              "    display: none;\n",
              "    fill: var(--fill-color);\n",
              "    height: 32px;\n",
              "    padding: 0;\n",
              "    width: 32px;\n",
              "  }\n",
              "\n",
              "  .colab-df-quickchart:hover {\n",
              "    background-color: var(--hover-bg-color);\n",
              "    box-shadow: 0 1px 2px rgba(60, 64, 67, 0.3), 0 1px 3px 1px rgba(60, 64, 67, 0.15);\n",
              "    fill: var(--button-hover-fill-color);\n",
              "  }\n",
              "\n",
              "  .colab-df-quickchart-complete:disabled,\n",
              "  .colab-df-quickchart-complete:disabled:hover {\n",
              "    background-color: var(--disabled-bg-color);\n",
              "    fill: var(--disabled-fill-color);\n",
              "    box-shadow: none;\n",
              "  }\n",
              "\n",
              "  .colab-df-spinner {\n",
              "    border: 2px solid var(--fill-color);\n",
              "    border-color: transparent;\n",
              "    border-bottom-color: var(--fill-color);\n",
              "    animation:\n",
              "      spin 1s steps(1) infinite;\n",
              "  }\n",
              "\n",
              "  @keyframes spin {\n",
              "    0% {\n",
              "      border-color: transparent;\n",
              "      border-bottom-color: var(--fill-color);\n",
              "      border-left-color: var(--fill-color);\n",
              "    }\n",
              "    20% {\n",
              "      border-color: transparent;\n",
              "      border-left-color: var(--fill-color);\n",
              "      border-top-color: var(--fill-color);\n",
              "    }\n",
              "    30% {\n",
              "      border-color: transparent;\n",
              "      border-left-color: var(--fill-color);\n",
              "      border-top-color: var(--fill-color);\n",
              "      border-right-color: var(--fill-color);\n",
              "    }\n",
              "    40% {\n",
              "      border-color: transparent;\n",
              "      border-right-color: var(--fill-color);\n",
              "      border-top-color: var(--fill-color);\n",
              "    }\n",
              "    60% {\n",
              "      border-color: transparent;\n",
              "      border-right-color: var(--fill-color);\n",
              "    }\n",
              "    80% {\n",
              "      border-color: transparent;\n",
              "      border-right-color: var(--fill-color);\n",
              "      border-bottom-color: var(--fill-color);\n",
              "    }\n",
              "    90% {\n",
              "      border-color: transparent;\n",
              "      border-bottom-color: var(--fill-color);\n",
              "    }\n",
              "  }\n",
              "</style>\n",
              "\n",
              "  <script>\n",
              "    async function quickchart(key) {\n",
              "      const quickchartButtonEl =\n",
              "        document.querySelector('#' + key + ' button');\n",
              "      quickchartButtonEl.disabled = true;  // To prevent multiple clicks.\n",
              "      quickchartButtonEl.classList.add('colab-df-spinner');\n",
              "      try {\n",
              "        const charts = await google.colab.kernel.invokeFunction(\n",
              "            'suggestCharts', [key], {});\n",
              "      } catch (error) {\n",
              "        console.error('Error during call to suggestCharts:', error);\n",
              "      }\n",
              "      quickchartButtonEl.classList.remove('colab-df-spinner');\n",
              "      quickchartButtonEl.classList.add('colab-df-quickchart-complete');\n",
              "    }\n",
              "    (() => {\n",
              "      let quickchartButtonEl =\n",
              "        document.querySelector('#df-cb63166b-ea1e-4e0a-8a8c-e7d7b850efa2 button');\n",
              "      quickchartButtonEl.style.display =\n",
              "        google.colab.kernel.accessAllowed ? 'block' : 'none';\n",
              "    })();\n",
              "  </script>\n",
              "</div>\n",
              "\n",
              "    </div>\n",
              "  </div>\n"
            ],
            "application/vnd.google.colaboratory.intrinsic+json": {
              "type": "dataframe",
              "summary": "{\n  \"name\": \"df\",\n  \"rows\": 8,\n  \"fields\": [\n    {\n      \"column\": \"vote_average\",\n      \"properties\": {\n        \"dtype\": \"number\",\n        \"std\": 370721.6347034673,\n        \"min\": 0.0,\n        \"max\": 1048562.0,\n        \"num_unique_values\": 6,\n        \"samples\": [\n          1048562.0,\n          2.0248744261188176,\n          10.0\n        ],\n        \"semantic_type\": \"\",\n        \"description\": \"\"\n      }\n    },\n    {\n      \"column\": \"vote_count\",\n      \"properties\": {\n        \"dtype\": \"number\",\n        \"std\": 369159.3003948796,\n        \"min\": 0.0,\n        \"max\": 1048562.0,\n        \"num_unique_values\": 6,\n        \"samples\": [\n          1048562.0,\n          20.45397410930398,\n          34495.0\n        ],\n        \"semantic_type\": \"\",\n        \"description\": \"\"\n      }\n    },\n    {\n      \"column\": \"revenue\",\n      \"properties\": {\n        \"dtype\": \"number\",\n        \"std\": 1059656511.754171,\n        \"min\": -12.0,\n        \"max\": 3000000000.0,\n        \"num_unique_values\": 6,\n        \"samples\": [\n          1048562.0,\n          739526.8828624345,\n          3000000000.0\n        ],\n        \"semantic_type\": \"\",\n        \"description\": \"\"\n      }\n    },\n    {\n      \"column\": \"budget\",\n      \"properties\": {\n        \"dtype\": \"number\",\n        \"std\": 317876627.32446253,\n        \"min\": 0.0,\n        \"max\": 900000000.0,\n        \"num_unique_values\": 5,\n        \"samples\": [\n          286087.7251273649,\n          900000000.0,\n          5124808.133330139\n        ],\n        \"semantic_type\": \"\",\n        \"description\": \"\"\n      }\n    },\n    {\n      \"column\": \"popularity\",\n      \"properties\": {\n        \"dtype\": \"number\",\n        \"std\": 370572.3221960932,\n        \"min\": 0.0,\n        \"max\": 1048562.0,\n        \"num_unique_values\": 7,\n        \"samples\": [\n          1048562.0,\n          1.2940186617481844,\n          0.896\n        ],\n        \"semantic_type\": \"\",\n        \"description\": \"\"\n      }\n    }\n  ]\n}"
            }
          },
          "metadata": {},
          "execution_count": 194
        }
      ]
    },
    {
      "cell_type": "markdown",
      "source": [
        "Gráfica"
      ],
      "metadata": {
        "id": "RL4TVQs7mlYe"
      }
    },
    {
      "cell_type": "code",
      "source": [
        "import matplotlib.pyplot as plt\n",
        "import seaborn as sns\n"
      ],
      "metadata": {
        "id": "9giozRYbmmaQ"
      },
      "execution_count": 199,
      "outputs": []
    },
    {
      "cell_type": "code",
      "source": [
        "plt.figure(figsize=(10, 50))\n",
        "sns.histplot(df['vote_average'], kde=True, bins=30, color='green', stat='density', linewidth=0)\n",
        "plt.title(\"Distribución de los Votos (vote_average)\", fontsize=16)\n",
        "plt.xlabel(\"Número de Votos (vote_average)\", fontsize=12)\n",
        "plt.ylabel(\"Densidad\", fontsize=12)\n",
        "plt.show()"
      ],
      "metadata": {
        "colab": {
          "base_uri": "https://localhost:8080/",
          "height": 1000
        },
        "id": "MKpOveyOmRXW",
        "outputId": "c730b0a8-4aa6-4b46-c88f-fb85064ef149"
      },
      "execution_count": 200,
      "outputs": [
        {
          "output_type": "display_data",
          "data": {
            "text/plain": [
              "<Figure size 1000x5000 with 1 Axes>"
            ],
            "image/png": "[encoded data removed]"
          },
          "metadata": {}
        }
      ]
    },
    {
      "cell_type": "markdown",
      "source": [],
      "metadata": {
        "id": "3NcHbWJCnSsp"
      }
    }
  ]
}