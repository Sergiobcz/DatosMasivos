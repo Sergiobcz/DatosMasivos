{
  "nbformat": 4,
  "nbformat_minor": 0,
  "metadata": {
    "colab": {
      "provenance": []
    },
    "kernelspec": {
      "name": "python3",
      "display_name": "Python 3"
    },
    "language_info": {
      "name": "python"
    }
  },
  "cells": [
    {
      "cell_type": "code",
      "execution_count": 1,
      "metadata": {
        "colab": {
          "base_uri": "https://localhost:8080/"
        },
        "id": "KugmCpi5pNaF",
        "outputId": "bbb5590a-1fde-474c-dce6-74b95f4a13f1"
      },
      "outputs": [
        {
          "output_type": "stream",
          "name": "stdout",
          "text": [
            "Get:1 https://cloud.r-project.org/bin/linux/ubuntu jammy-cran40/ InRelease [3,626 B]\n",
            "Get:2 https://developer.download.nvidia.com/compute/cuda/repos/ubuntu2204/x86_64  InRelease [1,581 B]\n",
            "Get:3 http://security.ubuntu.com/ubuntu jammy-security InRelease [129 kB]\n",
            "Get:4 https://r2u.stat.illinois.edu/ubuntu jammy InRelease [6,555 B]\n",
            "Hit:5 http://archive.ubuntu.com/ubuntu jammy InRelease\n",
            "Get:6 http://archive.ubuntu.com/ubuntu jammy-updates InRelease [128 kB]\n",
            "Hit:7 https://ppa.launchpadcontent.net/deadsnakes/ppa/ubuntu jammy InRelease\n",
            "Hit:8 https://ppa.launchpadcontent.net/graphics-drivers/ppa/ubuntu jammy InRelease\n",
            "Get:9 https://developer.download.nvidia.com/compute/cuda/repos/ubuntu2204/x86_64  Packages [1,108 kB]\n",
            "Hit:10 https://ppa.launchpadcontent.net/ubuntugis/ppa/ubuntu jammy InRelease\n",
            "Get:11 http://archive.ubuntu.com/ubuntu jammy-backports InRelease [127 kB]\n",
            "Get:12 https://r2u.stat.illinois.edu/ubuntu jammy/main all Packages [8,477 kB]\n",
            "Get:13 https://r2u.stat.illinois.edu/ubuntu jammy/main amd64 Packages [2,615 kB]\n",
            "Get:14 http://security.ubuntu.com/ubuntu jammy-security/universe amd64 Packages [1,164 kB]\n",
            "Get:15 http://security.ubuntu.com/ubuntu jammy-security/main amd64 Packages [2,424 kB]\n",
            "Get:16 http://archive.ubuntu.com/ubuntu jammy-updates/main amd64 Packages [2,701 kB]\n",
            "Get:17 http://archive.ubuntu.com/ubuntu jammy-updates/universe amd64 Packages [1,452 kB]\n",
            "Fetched 20.3 MB in 9s (2,198 kB/s)\n",
            "Reading package lists... Done\n",
            "Building dependency tree... Done\n",
            "Reading state information... Done\n",
            "53 packages can be upgraded. Run 'apt list --upgradable' to see them.\n",
            "\u001b[1;33mW: \u001b[0mSkipping acquire of configured file 'main/source/Sources' as repository 'https://r2u.stat.illinois.edu/ubuntu jammy InRelease' does not seem to provide it (sources.list entry misspelt?)\u001b[0m\n",
            "Requirement already satisfied: pyspark in /usr/local/lib/python3.10/dist-packages (3.5.3)\n",
            "Requirement already satisfied: py4j==0.10.9.7 in /usr/local/lib/python3.10/dist-packages (from pyspark) (0.10.9.7)\n",
            "Requirement already satisfied: py4j in /usr/local/lib/python3.10/dist-packages (0.10.9.7)\n"
          ]
        }
      ],
      "source": [
        "!sudo apt update\n",
        "!apt-get install openjdk-8-jdk-headless -qq > /dev/null\n",
        "#Check this site for the latest download link https://www.apache.org/dyn/closer.lua/spark/spark-3.2.1/spark-3.2.1-bin-hadoop3.2.tgz\n",
        "!wget -q https://archive.apache.org/dist/spark/spark-3.2.1/spark-3.2.1-bin-hadoop3.2.tgz\n",
        "!tar xf spark-3.2.1-bin-hadoop3.2.tgz\n",
        "!pip install -q findspark\n",
        "!pip install pyspark\n",
        "!pip install py4j"
      ]
    },
    {
      "cell_type": "code",
      "source": [
        "from pyspark.sql import SparkSession\n",
        "from pyspark.sql.functions import col\n",
        "\n",
        "#  SparkSession\n",
        "spark = SparkSession.builder.appName(\"Tarea5\").getOrCreate()\n",
        "\n",
        "# Cargar el dataset\n",
        "df = spark.read.csv(\"/Movies_clean.csv\", header=True, inferSchema=True)"
      ],
      "metadata": {
        "id": "eDxLJRlYpQuw"
      },
      "execution_count": 2,
      "outputs": []
    },
    {
      "cell_type": "code",
      "source": [
        "from pyspark.sql import functions as F\n",
        "\n",
        "# Vistazo de las primeras filas\n",
        "df.show(5)"
      ],
      "metadata": {
        "colab": {
          "base_uri": "https://localhost:8080/"
        },
        "id": "zU2kgIX1pTMg",
        "outputId": "bd3b7a0f-2ebc-4e83-8fd2-b6025a063711"
      },
      "execution_count": 3,
      "outputs": [
        {
          "output_type": "stream",
          "name": "stdout",
          "text": [
            "+--------+---------------+------------+----------+------+------------+----------+-----+---------+---------+-----------------+---------------+--------------------+----------+--------------------+--------------------+--------------------+--------------------+----+\n",
            "|movie_id|          title|vote_average|vote_count|status|release_date|   revenue|adult|   budget|  imdb_id|original_language| original_title|            overview|popularity|              genres|production_companies|production_countries|    spoken_languages| año|\n",
            "+--------+---------------+------------+----------+------+------------+----------+-----+---------+---------+-----------------+---------------+--------------------+----------+--------------------+--------------------+--------------------+--------------------+----+\n",
            "| 4520010|      Inception|       8.364|     34495|     1|  15/07/2010| 825532764|    0|160000000|tt1375666|               en|      Inception|\\Cobb a skilled t...|      NULL|                NULL|                NULL|                NULL|                NULL|NULL|\n",
            "| 4520011|   Interstellar|       8.417|     32571|     1|  05/11/2014| 701729206|    0|165000000|tt0816692|               en|   Interstellar|The adventures of...|   140.241|Adventure Drama S...|Legendary Picture...|United Kingdom Un...|             English|2014|\n",
            "| 4520012|The Dark Knight|       8.512|     30619|     1|  16/07/2008|1004558444|    0|185000000|tt0468569|               en|The Dark Knight|Batman raises the...|   130.643|Drama Action Crim...|DC Comics Legenda...|United Kingdom Un...|    English Mandarin|2008|\n",
            "| 4520013|         Avatar|       7.573|     29815|     1|  15/12/2009|2923706026|    0|237000000|tt0499549|               en|         Avatar|In the 22nd centu...|    79.932|Action Adventure ...|Dune Entertainmen...|United States of ...|     English Spanish|2009|\n",
            "| 4520014|   The Avengers|        7.71|     29166|     1|  25/04/2012|1518815515|    0|220000000|tt0848228|               en|   The Avengers|When an unexpecte...|    98.082|Science Fiction A...|      Marvel Studios|United States of ...|English Hindi Rus...|2012|\n",
            "+--------+---------------+------------+----------+------+------------+----------+-----+---------+---------+-----------------+---------------+--------------------+----------+--------------------+--------------------+--------------------+--------------------+----+\n",
            "only showing top 5 rows\n",
            "\n"
          ]
        }
      ]
    },
    {
      "cell_type": "markdown",
      "source": [
        "Analisis de variables"
      ],
      "metadata": {
        "id": "ZFQtG7BmpXBI"
      }
    },
    {
      "cell_type": "code",
      "source": [
        "#estadisticas de algunas variables numéricas\n",
        "\n",
        "df.select(\"vote_average\").describe().show()\n",
        "df.select(\"vote_count\").describe().show()\n",
        "df.select(\"revenue\").describe().show()\n",
        "df.select(\"budget\").describe().show()"
      ],
      "metadata": {
        "colab": {
          "base_uri": "https://localhost:8080/"
        },
        "id": "WFb5WceopU_I",
        "outputId": "5ff2eb2a-1815-4504-97c9-b38696eb25f5"
      },
      "execution_count": 4,
      "outputs": [
        {
          "output_type": "stream",
          "name": "stdout",
          "text": [
            "+-------+------------------+\n",
            "|summary|      vote_average|\n",
            "+-------+------------------+\n",
            "|  count|            108584|\n",
            "|   mean| 6.002334920430293|\n",
            "| stddev|1.1228891882012229|\n",
            "|    min|               0.5|\n",
            "|    max|              10.0|\n",
            "+-------+------------------+\n",
            "\n",
            "+-------+------------------+\n",
            "|summary|        vote_count|\n",
            "+-------+------------------+\n",
            "|  count|            108584|\n",
            "|   mean|190.07624511898624|\n",
            "| stddev| 1014.350666339881|\n",
            "|    min|                 3|\n",
            "|    max|             34495|\n",
            "+-------+------------------+\n",
            "\n",
            "+-------+--------------------+\n",
            "|summary|             revenue|\n",
            "+-------+--------------------+\n",
            "|  count|              108584|\n",
            "|   mean|    6504949.26688094|\n",
            "| stddev|5.1492443793638326E7|\n",
            "|    min|                   0|\n",
            "|    max|          2923706026|\n",
            "+-------+--------------------+\n",
            "\n",
            "+-------+--------------------+\n",
            "|summary|              budget|\n",
            "+-------+--------------------+\n",
            "|  count|              108584|\n",
            "|   mean|   2436930.343540485|\n",
            "| stddev|1.3609173030540757E7|\n",
            "|    min|                   0|\n",
            "|    max|           460000000|\n",
            "+-------+--------------------+\n",
            "\n"
          ]
        }
      ]
    },
    {
      "cell_type": "code",
      "source": [
        "#buscar valores nulos y limpiar\n",
        "\n",
        "null_counts = df.select([F.sum(F.col(c).isNull().cast(\"int\")).alias(c) for c in df.columns])\n",
        "\n",
        "null_counts.show()\n",
        "\n",
        "df_clean = df.dropna() #Borrar filas con valores nulos\n",
        "\n",
        "null_counts = df_clean.select([F.sum(F.col(c).isNull().cast(\"int\")).alias(c) for c in df_clean.columns])\n",
        "\n",
        "null_counts.show()"
      ],
      "metadata": {
        "colab": {
          "base_uri": "https://localhost:8080/"
        },
        "id": "iqjwjl0JpbAw",
        "outputId": "15fb1ab9-2c6c-4b3f-bf6a-be08047808d5"
      },
      "execution_count": 5,
      "outputs": [
        {
          "output_type": "stream",
          "name": "stdout",
          "text": [
            "+--------+-----+------------+----------+------+------------+-------+-----+------+-------+-----------------+--------------+--------+----------+------+--------------------+--------------------+----------------+----+\n",
            "|movie_id|title|vote_average|vote_count|status|release_date|revenue|adult|budget|imdb_id|original_language|original_title|overview|popularity|genres|production_companies|production_countries|spoken_languages| año|\n",
            "+--------+-----+------------+----------+------+------------+-------+-----+------+-------+-----------------+--------------+--------+----------+------+--------------------+--------------------+----------------+----+\n",
            "|       0|    0|          25|        25|    25|          25|     25|   25|    25|     25|               25|            25|      33|      8467|  8467|                8467|                8661|            8661|8661|\n",
            "+--------+-----+------------+----------+------+------------+-------+-----+------+-------+-----------------+--------------+--------+----------+------+--------------------+--------------------+----------------+----+\n",
            "\n",
            "+--------+-----+------------+----------+------+------------+-------+-----+------+-------+-----------------+--------------+--------+----------+------+--------------------+--------------------+----------------+---+\n",
            "|movie_id|title|vote_average|vote_count|status|release_date|revenue|adult|budget|imdb_id|original_language|original_title|overview|popularity|genres|production_companies|production_countries|spoken_languages|año|\n",
            "+--------+-----+------------+----------+------+------------+-------+-----+------+-------+-----------------+--------------+--------+----------+------+--------------------+--------------------+----------------+---+\n",
            "|       0|    0|           0|         0|     0|           0|      0|    0|     0|      0|                0|             0|       0|         0|     0|                   0|                   0|               0|  0|\n",
            "+--------+-----+------------+----------+------+------------+-------+-----+------+-------+-----------------+--------------+--------+----------+------+--------------------+--------------------+----------------+---+\n",
            "\n"
          ]
        }
      ]
    },
    {
      "cell_type": "markdown",
      "source": [
        "Analisis predictivo"
      ],
      "metadata": {
        "id": "-Ufbib8Wp4SZ"
      }
    },
    {
      "cell_type": "code",
      "source": [
        "from pyspark.ml.feature import VectorAssembler\n",
        "from pyspark.ml import Pipeline\n",
        "\n",
        "#Filtrar columnas con valores numéricos\n",
        "\n",
        "df1 = df_clean.drop(\"movie_id\", \"title\",\"release_date\",\n",
        "                      \"original_language\",\"original_title\",\n",
        "                      \"overview\",\"genres\", \"production_companies\",\"production_countries\"\n",
        "                      \"spoken_languages\", \"adult\", \"status\", \"vote_count\", \"imdb_id\",\n",
        "                      \"production_countries\", \"spoken_languages\", \"año\" )\n",
        "df1.show(5)"
      ],
      "metadata": {
        "colab": {
          "base_uri": "https://localhost:8080/"
        },
        "id": "n-YswwStp36z",
        "outputId": "6fefb064-5a8c-4358-ac24-2a4baa928caa"
      },
      "execution_count": 6,
      "outputs": [
        {
          "output_type": "stream",
          "name": "stdout",
          "text": [
            "+------------+----------+---------+----------+\n",
            "|vote_average|   revenue|   budget|popularity|\n",
            "+------------+----------+---------+----------+\n",
            "|       8.417| 701729206|165000000|   140.241|\n",
            "|       8.512|1004558444|185000000|   130.643|\n",
            "|       7.573|2923706026|237000000|    79.932|\n",
            "|        7.71|1518815515|220000000|    98.082|\n",
            "|       7.606| 783100000| 58000000|    72.735|\n",
            "+------------+----------+---------+----------+\n",
            "only showing top 5 rows\n",
            "\n"
          ]
        }
      ]
    },
    {
      "cell_type": "markdown",
      "source": [
        "Predecir ganancias mediante regresión"
      ],
      "metadata": {
        "id": "SRgUgWb3qKrZ"
      }
    },
    {
      "cell_type": "code",
      "source": [
        "from pyspark.ml.regression import LinearRegression\n",
        "\n",
        "\n",
        "assembler = VectorAssembler(\n",
        "    inputCols=[\"vote_average\", \"budget\", \"popularity\"],\n",
        "    outputCol=\"features\"\n",
        ")"
      ],
      "metadata": {
        "id": "aOXkfqUCqNjS"
      },
      "execution_count": 7,
      "outputs": []
    },
    {
      "cell_type": "code",
      "source": [
        "lr = LinearRegression(featuresCol=\"features\", labelCol=\"revenue\")\n",
        "pipeline  = Pipeline(stages=[assembler, lr]) #Ensamble de características y modelo\n",
        "\n",
        "train, test = df1.randomSplit([0.7, 0.3], seed = 1) #División en entrenamiento y prueba\n",
        "model = pipeline.fit(train) #Entrenar el modelo\n",
        "\n",
        "# Predicciones\n",
        "pred = model.transform(test)\n",
        "pred.select(\"prediction\", \"revenue\",\"features\").show()"
      ],
      "metadata": {
        "colab": {
          "base_uri": "https://localhost:8080/"
        },
        "id": "-ssjZHX4qR4z",
        "outputId": "771e2259-2921-479e-fc3e-958c00b8831a"
      },
      "execution_count": 8,
      "outputs": [
        {
          "output_type": "stream",
          "name": "stdout",
          "text": [
            "+-------------------+-------+--------------------+\n",
            "|         prediction|revenue|            features|\n",
            "+-------------------+-------+--------------------+\n",
            "|-7653868.9835540755|      0|     [1.4,0.0,2.863]|\n",
            "| -7600294.502077731|      0|   [1.467,0.0,2.479]|\n",
            "| -5828640.563280217|5000000|  [1.821,0.0,12.955]|\n",
            "| -5155863.770118317|2800000|[1.84,500000.0,6....|\n",
            "|  -7055930.33402593|      0|   [1.857,0.0,2.197]|\n",
            "| -7004232.540247287|      0|     [1.9,0.0,2.096]|\n",
            "| -6994947.382790588|      0|     [1.9,0.0,2.174]|\n",
            "| -6734502.241307881|      0|   [2.058,0.0,2.395]|\n",
            "| -5797976.892434112|      0|[2.098,10000.0,9....|\n",
            "| -6749639.552150033|      0|     [2.1,0.0,1.745]|\n",
            "| -6733926.208761774|      0|     [2.1,0.0,1.877]|\n",
            "| -6794907.289682491|      0|   [2.115,0.0,1.178]|\n",
            "| -6730177.228431752|      0|   [2.139,0.0,1.423]|\n",
            "| -6622001.786968252|    200|   [2.154,0.0,2.145]|\n",
            "| -6472683.879597923|      0|   [2.157,0.0,3.362]|\n",
            "| -6377179.189100496|      0|     [2.2,0.0,3.629]|\n",
            "| -6041585.050963482|      0|[2.204,34000.0,5....|\n",
            "| -5071160.131623047|      0|[2.261,200000.0,8...|\n",
            "| -6454973.592153254|      0|   [2.346,0.0,1.158]|\n",
            "| -6346144.222845297|      0|       [2.4,0.0,1.4]|\n",
            "+-------------------+-------+--------------------+\n",
            "only showing top 20 rows\n",
            "\n"
          ]
        }
      ]
    },
    {
      "cell_type": "markdown",
      "source": [
        "Evaluación"
      ],
      "metadata": {
        "id": "kT36WAa1qZ_B"
      }
    },
    {
      "cell_type": "code",
      "source": [
        "from pyspark.ml.evaluation import RegressionEvaluator\n",
        "\n",
        "eval = RegressionEvaluator(labelCol=\"revenue\", predictionCol=\"prediction\", metricName=\"rmse\")\n",
        "rmse = eval.evaluate(pred)\n",
        "print(\"RMSE:\", rmse) #imprimir razi del error cuadrado medio"
      ],
      "metadata": {
        "colab": {
          "base_uri": "https://localhost:8080/"
        },
        "id": "JHPTLXjzqbGi",
        "outputId": "df3a279a-2bd9-4885-e96f-ddf02f667062"
      },
      "execution_count": 9,
      "outputs": [
        {
          "output_type": "stream",
          "name": "stdout",
          "text": [
            "RMSE: 31357704.586860254\n"
          ]
        }
      ]
    },
    {
      "cell_type": "markdown",
      "source": [
        "Predecir popularidad"
      ],
      "metadata": {
        "id": "VtmNEFmuqlDx"
      }
    },
    {
      "cell_type": "code",
      "source": [
        "assembler = VectorAssembler(\n",
        "    inputCols=[\"vote_average\", \"budget\", \"revenue\"],\n",
        "    outputCol=\"features\"\n",
        ")\n",
        "\n",
        "features_df = assembler.transform(df1)\n",
        "features_df.show(5)"
      ],
      "metadata": {
        "colab": {
          "base_uri": "https://localhost:8080/"
        },
        "id": "7k7XTwvtqmfx",
        "outputId": "3dc935bf-4240-4ad8-a602-abc3d660f9d0"
      },
      "execution_count": 10,
      "outputs": [
        {
          "output_type": "stream",
          "name": "stdout",
          "text": [
            "+------------+----------+---------+----------+--------------------+\n",
            "|vote_average|   revenue|   budget|popularity|            features|\n",
            "+------------+----------+---------+----------+--------------------+\n",
            "|       8.417| 701729206|165000000|   140.241|[8.417,1.65E8,7.0...|\n",
            "|       8.512|1004558444|185000000|   130.643|[8.512,1.85E8,1.0...|\n",
            "|       7.573|2923706026|237000000|    79.932|[7.573,2.37E8,2.9...|\n",
            "|        7.71|1518815515|220000000|    98.082|[7.71,2.2E8,1.518...|\n",
            "|       7.606| 783100000| 58000000|    72.735|[7.606,5.8E7,7.83...|\n",
            "+------------+----------+---------+----------+--------------------+\n",
            "only showing top 5 rows\n",
            "\n"
          ]
        }
      ]
    },
    {
      "cell_type": "code",
      "source": [
        "#regresión\n",
        "train1, test1 = features_df.randomSplit([0.7, 0.3], seed = 1)\n",
        "lr = LinearRegression(featuresCol=\"features\", labelCol=\"popularity\")\n",
        "model1 = lr.fit(train1)\n",
        "\n",
        "lr_pred = model1.transform(test1)\n",
        "lr_pred.select(\"prediction\", \"popularity\", \"features\").show()"
      ],
      "metadata": {
        "colab": {
          "base_uri": "https://localhost:8080/"
        },
        "id": "4u71cDKGqrta",
        "outputId": "582101f4-66c4-4a30-cdf9-b3e11edd0ba0"
      },
      "execution_count": 11,
      "outputs": [
        {
          "output_type": "stream",
          "name": "stdout",
          "text": [
            "+--------------------+----------+--------------------+\n",
            "|          prediction|popularity|            features|\n",
            "+--------------------+----------+--------------------+\n",
            "| -1.2265833287271686|     2.863|       [1.4,0.0,0.0]|\n",
            "|  -1.139397793680265|     2.479|     [1.467,0.0,0.0]|\n",
            "| -0.4594323212674114|    12.955|[1.821,0.0,500000...|\n",
            "| -0.3690969426837487|     6.203|[1.84,500000.0,28...|\n",
            "| -0.6318999031087396|     2.197|     [1.857,0.0,0.0]|\n",
            "| -0.5759450074816228|     2.096|       [1.9,0.0,0.0]|\n",
            "| -0.5759450074816228|     2.174|       [1.9,0.0,0.0]|\n",
            "|-0.37034329796803034|     2.395|     [2.058,0.0,0.0]|\n",
            "|-0.31505005066031533|     9.521| [2.098,10000.0,0.0]|\n",
            "|-0.31568967898340405|     1.745|       [2.1,0.0,0.0]|\n",
            "|-0.31568967898340405|     1.877|       [2.1,0.0,0.0]|\n",
            "| -0.2961705293460377|     1.178|     [2.115,0.0,0.0]|\n",
            "|-0.26493988992625184|     1.423|     [2.139,0.0,0.0]|\n",
            "| -0.2454119677472466|     2.145|   [2.154,0.0,200.0]|\n",
            "|-0.24151691036141187|     3.362|     [2.157,0.0,0.0]|\n",
            "|-0.18556201473429468|     3.629|       [2.2,0.0,0.0]|\n",
            "|-0.16933349069688752|     5.571| [2.204,34000.0,0.0]|\n",
            "|-0.04134050738090833|     8.974|[2.261,200000.0,0.0]|\n",
            "|0.004424375069404185|     1.158|     [2.346,0.0,0.0]|\n",
            "| 0.07469331376392319|       1.4|       [2.4,0.0,0.0]|\n",
            "+--------------------+----------+--------------------+\n",
            "only showing top 20 rows\n",
            "\n"
          ]
        }
      ]
    },
    {
      "cell_type": "code",
      "source": [
        "#Evaluación del modelo\n",
        "eval = RegressionEvaluator(labelCol=\"popularity\", predictionCol=\"prediction\", metricName=\"rmse\")\n",
        "rmse = eval.evaluate(lr_pred)\n",
        "print(\"RMSE:\", rmse)"
      ],
      "metadata": {
        "colab": {
          "base_uri": "https://localhost:8080/"
        },
        "id": "XG3Qf6shqxCB",
        "outputId": "050739af-f5a1-4e72-b6ee-5a4b76622447"
      },
      "execution_count": 12,
      "outputs": [
        {
          "output_type": "stream",
          "name": "stdout",
          "text": [
            "RMSE: 22.714261912394793\n"
          ]
        }
      ]
    },
    {
      "cell_type": "markdown",
      "source": [
        "Cluster"
      ],
      "metadata": {
        "id": "hibPh4jLqzu5"
      }
    },
    {
      "cell_type": "code",
      "source": [
        "from pyspark.ml.clustering import KMeans\n",
        "\n",
        "assembler = VectorAssembler(\n",
        "    inputCols=[\"vote_average\", \"budget\", \"popularity\", \"revenue\"],\n",
        "    outputCol=\"features\"\n",
        ")\n",
        "\n",
        "df_feat = assembler.transform(df1)\n"
      ],
      "metadata": {
        "id": "IIaGnYp1q4wp"
      },
      "execution_count": 13,
      "outputs": []
    },
    {
      "cell_type": "code",
      "source": [
        "#Crear modelo\n",
        "kmeans = KMeans(k=3, seed=1)\n",
        "model = kmeans.fit(df_feat)\n",
        "cluster = model.transform(df_feat)\n",
        "cluster.show(5)"
      ],
      "metadata": {
        "colab": {
          "base_uri": "https://localhost:8080/"
        },
        "id": "_MLaGlUVq6eS",
        "outputId": "68161db7-11b7-427a-afe1-d22d3eab8d3f"
      },
      "execution_count": 14,
      "outputs": [
        {
          "output_type": "stream",
          "name": "stdout",
          "text": [
            "+------------+----------+---------+----------+--------------------+----------+\n",
            "|vote_average|   revenue|   budget|popularity|            features|prediction|\n",
            "+------------+----------+---------+----------+--------------------+----------+\n",
            "|       8.417| 701729206|165000000|   140.241|[8.417,1.65E8,140...|         1|\n",
            "|       8.512|1004558444|185000000|   130.643|[8.512,1.85E8,130...|         1|\n",
            "|       7.573|2923706026|237000000|    79.932|[7.573,2.37E8,79....|         1|\n",
            "|        7.71|1518815515|220000000|    98.082|[7.71,2.2E8,98.08...|         1|\n",
            "|       7.606| 783100000| 58000000|    72.735|[7.606,5.8E7,72.7...|         1|\n",
            "+------------+----------+---------+----------+--------------------+----------+\n",
            "only showing top 5 rows\n",
            "\n"
          ]
        }
      ]
    },
    {
      "cell_type": "code",
      "source": [
        "# resultado\n",
        "\n",
        "centers = model.clusterCenters()\n",
        "print(\"Cluster Centers: \")\n",
        "for center in centers:\n",
        "    print(center)"
      ],
      "metadata": {
        "colab": {
          "base_uri": "https://localhost:8080/"
        },
        "id": "VLu-wykYq8Np",
        "outputId": "32b23ac9-fe46-43fa-d5d2-d0c839fb053b"
      },
      "execution_count": 15,
      "outputs": [
        {
          "output_type": "stream",
          "name": "stdout",
          "text": [
            "Cluster Centers: \n",
            "[5.99049703e+00 1.37172366e+06 5.21714480e+00 2.02747415e+06]\n",
            "[7.19814973e+00 1.60652416e+08 8.65187968e+01 9.15850783e+08]\n",
            "[6.71882152e+00 6.93507031e+07 4.42491548e+01 2.45646853e+08]\n"
          ]
        }
      ]
    },
    {
      "cell_type": "markdown",
      "source": [
        "Visualización con PCE"
      ],
      "metadata": {
        "id": "o_AwwF6zrBjR"
      }
    },
    {
      "cell_type": "code",
      "source": [
        "from pyspark.ml.feature import PCA\n",
        "\n",
        "# agrupación\n",
        "pca = PCA(k=2, inputCol=\"features\", outputCol=\"pcaFeatures\")\n",
        "model = pca.fit(df_feat)\n",
        "result = model.transform(df_feat)\n",
        "\n",
        "result.show(5)"
      ],
      "metadata": {
        "colab": {
          "base_uri": "https://localhost:8080/"
        },
        "id": "ttnNT75frDaJ",
        "outputId": "54d76891-c495-46ef-c7e6-9ee8fa52c4d3"
      },
      "execution_count": 16,
      "outputs": [
        {
          "output_type": "stream",
          "name": "stdout",
          "text": [
            "+------------+----------+---------+----------+--------------------+--------------------+\n",
            "|vote_average|   revenue|   budget|popularity|            features|         pcaFeatures|\n",
            "+------------+----------+---------+----------+--------------------+--------------------+\n",
            "|       8.417| 701729206|165000000|   140.241|[8.417,1.65E8,140...|[-7.2058572731468...|\n",
            "|       8.512|1004558444|185000000|   130.643|[8.512,1.85E8,130...|[-1.0212282896579...|\n",
            "|       7.573|2923706026|237000000|    79.932|[7.573,2.37E8,79....|[-2.9114471795484...|\n",
            "|        7.71|1518815515|220000000|    98.082|[7.71,2.2E8,98.08...|[-1.5319809841827...|\n",
            "|       7.606| 783100000| 58000000|    72.735|[7.606,5.8E7,72.7...|[-7.7871178515758...|\n",
            "+------------+----------+---------+----------+--------------------+--------------------+\n",
            "only showing top 5 rows\n",
            "\n"
          ]
        }
      ]
    },
    {
      "cell_type": "code",
      "source": [
        "#Combinar PCA con las predicciones del cluster\n",
        "pca_cluster = result.join(cluster.select(\"features\", \"prediction\"), on=\"features\")"
      ],
      "metadata": {
        "id": "DkjUPKE2rIpa"
      },
      "execution_count": 17,
      "outputs": []
    },
    {
      "cell_type": "code",
      "source": [
        "# convertir a pandas\n",
        "import pandas as pd\n",
        "pca_cluster_pd = pca_cluster.select(\"pcaFeatures\", \"prediction\").toPandas()"
      ],
      "metadata": {
        "id": "ijKll9XVrNx6"
      },
      "execution_count": 18,
      "outputs": []
    },
    {
      "cell_type": "code",
      "source": [
        "pca_cluster_pd.head()"
      ],
      "metadata": {
        "colab": {
          "base_uri": "https://localhost:8080/",
          "height": 206
        },
        "id": "gOkQrR0IrXLR",
        "outputId": "3b2bf47c-814d-47d2-e1f8-6eca65c5893a"
      },
      "execution_count": 19,
      "outputs": [
        {
          "output_type": "execute_result",
          "data": {
            "text/plain": [
              "                                pcaFeatures  prediction\n",
              "0  [-720585727.3146845, -20126801.62804401]           1\n",
              "1   [-1021228289.657989, 21341223.34677523]           1\n",
              "2   [-2911447179.5484667, 357353112.716241]           1\n",
              "3   [-1531980984.182758, 90745979.01368578]           1\n",
              "4  [-778711785.1575801, 101081974.93470363]           1"
            ],
            "text/html": [
              "\n",
              "  <div id=\"df-0b2a57d4-e96d-4e44-bb8b-025defc6a3af\" class=\"colab-df-container\">\n",
              "    <div>\n",
              "<style scoped>\n",
              "    .dataframe tbody tr th:only-of-type {\n",
              "        vertical-align: middle;\n",
              "    }\n",
              "\n",
              "    .dataframe tbody tr th {\n",
              "        vertical-align: top;\n",
              "    }\n",
              "\n",
              "    .dataframe thead th {\n",
              "        text-align: right;\n",
              "    }\n",
              "</style>\n",
              "<table border=\"1\" class=\"dataframe\">\n",
              "  <thead>\n",
              "    <tr style=\"text-align: right;\">\n",
              "      <th></th>\n",
              "      <th>pcaFeatures</th>\n",
              "      <th>prediction</th>\n",
              "    </tr>\n",
              "  </thead>\n",
              "  <tbody>\n",
              "    <tr>\n",
              "      <th>0</th>\n",
              "      <td>[-720585727.3146845, -20126801.62804401]</td>\n",
              "      <td>1</td>\n",
              "    </tr>\n",
              "    <tr>\n",
              "      <th>1</th>\n",
              "      <td>[-1021228289.657989, 21341223.34677523]</td>\n",
              "      <td>1</td>\n",
              "    </tr>\n",
              "    <tr>\n",
              "      <th>2</th>\n",
              "      <td>[-2911447179.5484667, 357353112.716241]</td>\n",
              "      <td>1</td>\n",
              "    </tr>\n",
              "    <tr>\n",
              "      <th>3</th>\n",
              "      <td>[-1531980984.182758, 90745979.01368578]</td>\n",
              "      <td>1</td>\n",
              "    </tr>\n",
              "    <tr>\n",
              "      <th>4</th>\n",
              "      <td>[-778711785.1575801, 101081974.93470363]</td>\n",
              "      <td>1</td>\n",
              "    </tr>\n",
              "  </tbody>\n",
              "</table>\n",
              "</div>\n",
              "    <div class=\"colab-df-buttons\">\n",
              "\n",
              "  <div class=\"colab-df-container\">\n",
              "    <button class=\"colab-df-convert\" onclick=\"convertToInteractive('df-0b2a57d4-e96d-4e44-bb8b-025defc6a3af')\"\n",
              "            title=\"Convert this dataframe to an interactive table.\"\n",
              "            style=\"display:none;\">\n",
              "\n",
              "  <svg xmlns=\"http://www.w3.org/2000/svg\" height=\"24px\" viewBox=\"0 -960 960 960\">\n",
              "    <path d=\"M120-120v-720h720v720H120Zm60-500h600v-160H180v160Zm220 220h160v-160H400v160Zm0 220h160v-160H400v160ZM180-400h160v-160H180v160Zm440 0h160v-160H620v160ZM180-180h160v-160H180v160Zm440 0h160v-160H620v160Z\"/>\n",
              "  </svg>\n",
              "    </button>\n",
              "\n",
              "  <style>\n",
              "    .colab-df-container {\n",
              "      display:flex;\n",
              "      gap: 12px;\n",
              "    }\n",
              "\n",
              "    .colab-df-convert {\n",
              "      background-color: #E8F0FE;\n",
              "      border: none;\n",
              "      border-radius: 50%;\n",
              "      cursor: pointer;\n",
              "      display: none;\n",
              "      fill: #1967D2;\n",
              "      height: 32px;\n",
              "      padding: 0 0 0 0;\n",
              "      width: 32px;\n",
              "    }\n",
              "\n",
              "    .colab-df-convert:hover {\n",
              "      background-color: #E2EBFA;\n",
              "      box-shadow: 0px 1px 2px rgba(60, 64, 67, 0.3), 0px 1px 3px 1px rgba(60, 64, 67, 0.15);\n",
              "      fill: #174EA6;\n",
              "    }\n",
              "\n",
              "    .colab-df-buttons div {\n",
              "      margin-bottom: 4px;\n",
              "    }\n",
              "\n",
              "    [theme=dark] .colab-df-convert {\n",
              "      background-color: #3B4455;\n",
              "      fill: #D2E3FC;\n",
              "    }\n",
              "\n",
              "    [theme=dark] .colab-df-convert:hover {\n",
              "      background-color: #434B5C;\n",
              "      box-shadow: 0px 1px 3px 1px rgba(0, 0, 0, 0.15);\n",
              "      filter: drop-shadow(0px 1px 2px rgba(0, 0, 0, 0.3));\n",
              "      fill: #FFFFFF;\n",
              "    }\n",
              "  </style>\n",
              "\n",
              "    <script>\n",
              "      const buttonEl =\n",
              "        document.querySelector('#df-0b2a57d4-e96d-4e44-bb8b-025defc6a3af button.colab-df-convert');\n",
              "      buttonEl.style.display =\n",
              "        google.colab.kernel.accessAllowed ? 'block' : 'none';\n",
              "\n",
              "      async function convertToInteractive(key) {\n",
              "        const element = document.querySelector('#df-0b2a57d4-e96d-4e44-bb8b-025defc6a3af');\n",
              "        const dataTable =\n",
              "          await google.colab.kernel.invokeFunction('convertToInteractive',\n",
              "                                                    [key], {});\n",
              "        if (!dataTable) return;\n",
              "\n",
              "        const docLinkHtml = 'Like what you see? Visit the ' +\n",
              "          '<a target=\"_blank\" href=https://colab.research.google.com/notebooks/data_table.ipynb>data table notebook</a>'\n",
              "          + ' to learn more about interactive tables.';\n",
              "        element.innerHTML = '';\n",
              "        dataTable['output_type'] = 'display_data';\n",
              "        await google.colab.output.renderOutput(dataTable, element);\n",
              "        const docLink = document.createElement('div');\n",
              "        docLink.innerHTML = docLinkHtml;\n",
              "        element.appendChild(docLink);\n",
              "      }\n",
              "    </script>\n",
              "  </div>\n",
              "\n",
              "\n",
              "<div id=\"df-850a6b5a-2557-4bdd-9976-1238a8e08a23\">\n",
              "  <button class=\"colab-df-quickchart\" onclick=\"quickchart('df-850a6b5a-2557-4bdd-9976-1238a8e08a23')\"\n",
              "            title=\"Suggest charts\"\n",
              "            style=\"display:none;\">\n",
              "\n",
              "<svg xmlns=\"http://www.w3.org/2000/svg\" height=\"24px\"viewBox=\"0 0 24 24\"\n",
              "     width=\"24px\">\n",
              "    <g>\n",
              "        <path d=\"M19 3H5c-1.1 0-2 .9-2 2v14c0 1.1.9 2 2 2h14c1.1 0 2-.9 2-2V5c0-1.1-.9-2-2-2zM9 17H7v-7h2v7zm4 0h-2V7h2v10zm4 0h-2v-4h2v4z\"/>\n",
              "    </g>\n",
              "</svg>\n",
              "  </button>\n",
              "\n",
              "<style>\n",
              "  .colab-df-quickchart {\n",
              "      --bg-color: #E8F0FE;\n",
              "      --fill-color: #1967D2;\n",
              "      --hover-bg-color: #E2EBFA;\n",
              "      --hover-fill-color: #174EA6;\n",
              "      --disabled-fill-color: #AAA;\n",
              "      --disabled-bg-color: #DDD;\n",
              "  }\n",
              "\n",
              "  [theme=dark] .colab-df-quickchart {\n",
              "      --bg-color: #3B4455;\n",
              "      --fill-color: #D2E3FC;\n",
              "      --hover-bg-color: #434B5C;\n",
              "      --hover-fill-color: #FFFFFF;\n",
              "      --disabled-bg-color: #3B4455;\n",
              "      --disabled-fill-color: #666;\n",
              "  }\n",
              "\n",
              "  .colab-df-quickchart {\n",
              "    background-color: var(--bg-color);\n",
              "    border: none;\n",
              "    border-radius: 50%;\n",
              "    cursor: pointer;\n",
              "    display: none;\n",
              "    fill: var(--fill-color);\n",
              "    height: 32px;\n",
              "    padding: 0;\n",
              "    width: 32px;\n",
              "  }\n",
              "\n",
              "  .colab-df-quickchart:hover {\n",
              "    background-color: var(--hover-bg-color);\n",
              "    box-shadow: 0 1px 2px rgba(60, 64, 67, 0.3), 0 1px 3px 1px rgba(60, 64, 67, 0.15);\n",
              "    fill: var(--button-hover-fill-color);\n",
              "  }\n",
              "\n",
              "  .colab-df-quickchart-complete:disabled,\n",
              "  .colab-df-quickchart-complete:disabled:hover {\n",
              "    background-color: var(--disabled-bg-color);\n",
              "    fill: var(--disabled-fill-color);\n",
              "    box-shadow: none;\n",
              "  }\n",
              "\n",
              "  .colab-df-spinner {\n",
              "    border: 2px solid var(--fill-color);\n",
              "    border-color: transparent;\n",
              "    border-bottom-color: var(--fill-color);\n",
              "    animation:\n",
              "      spin 1s steps(1) infinite;\n",
              "  }\n",
              "\n",
              "  @keyframes spin {\n",
              "    0% {\n",
              "      border-color: transparent;\n",
              "      border-bottom-color: var(--fill-color);\n",
              "      border-left-color: var(--fill-color);\n",
              "    }\n",
              "    20% {\n",
              "      border-color: transparent;\n",
              "      border-left-color: var(--fill-color);\n",
              "      border-top-color: var(--fill-color);\n",
              "    }\n",
              "    30% {\n",
              "      border-color: transparent;\n",
              "      border-left-color: var(--fill-color);\n",
              "      border-top-color: var(--fill-color);\n",
              "      border-right-color: var(--fill-color);\n",
              "    }\n",
              "    40% {\n",
              "      border-color: transparent;\n",
              "      border-right-color: var(--fill-color);\n",
              "      border-top-color: var(--fill-color);\n",
              "    }\n",
              "    60% {\n",
              "      border-color: transparent;\n",
              "      border-right-color: var(--fill-color);\n",
              "    }\n",
              "    80% {\n",
              "      border-color: transparent;\n",
              "      border-right-color: var(--fill-color);\n",
              "      border-bottom-color: var(--fill-color);\n",
              "    }\n",
              "    90% {\n",
              "      border-color: transparent;\n",
              "      border-bottom-color: var(--fill-color);\n",
              "    }\n",
              "  }\n",
              "</style>\n",
              "\n",
              "  <script>\n",
              "    async function quickchart(key) {\n",
              "      const quickchartButtonEl =\n",
              "        document.querySelector('#' + key + ' button');\n",
              "      quickchartButtonEl.disabled = true;  // To prevent multiple clicks.\n",
              "      quickchartButtonEl.classList.add('colab-df-spinner');\n",
              "      try {\n",
              "        const charts = await google.colab.kernel.invokeFunction(\n",
              "            'suggestCharts', [key], {});\n",
              "      } catch (error) {\n",
              "        console.error('Error during call to suggestCharts:', error);\n",
              "      }\n",
              "      quickchartButtonEl.classList.remove('colab-df-spinner');\n",
              "      quickchartButtonEl.classList.add('colab-df-quickchart-complete');\n",
              "    }\n",
              "    (() => {\n",
              "      let quickchartButtonEl =\n",
              "        document.querySelector('#df-850a6b5a-2557-4bdd-9976-1238a8e08a23 button');\n",
              "      quickchartButtonEl.style.display =\n",
              "        google.colab.kernel.accessAllowed ? 'block' : 'none';\n",
              "    })();\n",
              "  </script>\n",
              "</div>\n",
              "\n",
              "    </div>\n",
              "  </div>\n"
            ],
            "application/vnd.google.colaboratory.intrinsic+json": {
              "type": "dataframe",
              "variable_name": "pca_cluster_pd"
            }
          },
          "metadata": {},
          "execution_count": 19
        }
      ]
    },
    {
      "cell_type": "code",
      "source": [
        "pca_cluster_pd['x'] = pca_cluster_pd['pcaFeatures'].apply(lambda x: x[0])\n",
        "pca_cluster_pd['y'] = pca_cluster_pd['pcaFeatures'].apply(lambda x: x[1])"
      ],
      "metadata": {
        "id": "X59CKE12uJpK"
      },
      "execution_count": 21,
      "outputs": []
    },
    {
      "cell_type": "code",
      "source": [
        "import matplotlib.pyplot as plt\n",
        "import seaborn as sns\n",
        "\n",
        "plt.figure(figsize=(10, 6))\n",
        "sns.scatterplot(data=pca_cluster_pd, x='x', y='y', hue='prediction', palette='Set1', alpha=0.6)\n",
        "plt.title(\"Clustering de Películas utilizando K-Means\")\n",
        "plt.xlabel(\"Componente Principal 1\")\n",
        "plt.ylabel(\"Componente Principal 2\")\n",
        "plt.legend(title='Clúster')\n",
        "plt.show()"
      ],
      "metadata": {
        "colab": {
          "base_uri": "https://localhost:8080/",
          "height": 565
        },
        "id": "qtUV3rBauSqq",
        "outputId": "e818b48b-de2c-4f05-d542-3044cd3a4647"
      },
      "execution_count": 22,
      "outputs": [
        {
          "output_type": "display_data",
          "data": {
            "text/plain": [
              "<Figure size 1000x600 with 1 Axes>"
            ],
            "image/png": "[encoded data removed]"
          },
          "metadata": {}
        }
      ]
    }
  ]
}