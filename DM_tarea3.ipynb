{
  "nbformat": 4,
  "nbformat_minor": 0,
  "metadata": {
    "colab": {
      "provenance": []
    },
    "kernelspec": {
      "name": "python3",
      "display_name": "Python 3"
    },
    "language_info": {
      "name": "python"
    }
  },
  "cells": [
    {
      "cell_type": "code",
      "execution_count": 1,
      "metadata": {
        "colab": {
          "base_uri": "https://localhost:8080/"
        },
        "id": "K6OwjBA6PeXf",
        "outputId": "5c418fb5-8958-4e0c-8d9d-30f5b614f869"
      },
      "outputs": [
        {
          "output_type": "stream",
          "name": "stdout",
          "text": [
            "\u001b[33m\r0% [Working]\u001b[0m\r            \rGet:1 https://cloud.r-project.org/bin/linux/ubuntu jammy-cran40/ InRelease [3,626 B]\n",
            "Hit:2 https://developer.download.nvidia.com/compute/cuda/repos/ubuntu2204/x86_64  InRelease\n",
            "Get:3 https://r2u.stat.illinois.edu/ubuntu jammy InRelease [6,555 B]\n",
            "Get:4 http://security.ubuntu.com/ubuntu jammy-security InRelease [129 kB]\n",
            "Hit:5 http://archive.ubuntu.com/ubuntu jammy InRelease\n",
            "Get:6 http://archive.ubuntu.com/ubuntu jammy-updates InRelease [128 kB]\n",
            "Hit:7 https://ppa.launchpadcontent.net/deadsnakes/ppa/ubuntu jammy InRelease\n",
            "Hit:8 https://ppa.launchpadcontent.net/graphics-drivers/ppa/ubuntu jammy InRelease\n",
            "Hit:9 https://ppa.launchpadcontent.net/ubuntugis/ppa/ubuntu jammy InRelease\n",
            "Get:10 http://archive.ubuntu.com/ubuntu jammy-backports InRelease [127 kB]\n",
            "Get:11 https://r2u.stat.illinois.edu/ubuntu jammy/main amd64 Packages [2,611 kB]\n",
            "Get:12 https://r2u.stat.illinois.edu/ubuntu jammy/main all Packages [8,449 kB]\n",
            "Get:13 http://security.ubuntu.com/ubuntu jammy-security/restricted amd64 Packages [3,241 kB]\n",
            "Get:14 http://security.ubuntu.com/ubuntu jammy-security/main amd64 Packages [2,397 kB]\n",
            "Get:15 http://security.ubuntu.com/ubuntu jammy-security/universe amd64 Packages [1,163 kB]\n",
            "Get:16 http://archive.ubuntu.com/ubuntu jammy-updates/restricted amd64 Packages [3,319 kB]\n",
            "Get:17 http://archive.ubuntu.com/ubuntu jammy-updates/main amd64 Packages [2,672 kB]\n",
            "Get:18 http://archive.ubuntu.com/ubuntu jammy-updates/universe amd64 Packages [1,452 kB]\n",
            "Fetched 25.7 MB in 7s (3,830 kB/s)\n",
            "Reading package lists... Done\n",
            "Building dependency tree... Done\n",
            "Reading state information... Done\n",
            "51 packages can be upgraded. Run 'apt list --upgradable' to see them.\n",
            "\u001b[1;33mW: \u001b[0mSkipping acquire of configured file 'main/source/Sources' as repository 'https://r2u.stat.illinois.edu/ubuntu jammy InRelease' does not seem to provide it (sources.list entry misspelt?)\u001b[0m\n",
            "Requirement already satisfied: pyspark in /usr/local/lib/python3.10/dist-packages (3.5.3)\n",
            "Requirement already satisfied: py4j==0.10.9.7 in /usr/local/lib/python3.10/dist-packages (from pyspark) (0.10.9.7)\n",
            "Requirement already satisfied: py4j in /usr/local/lib/python3.10/dist-packages (0.10.9.7)\n"
          ]
        }
      ],
      "source": [
        "!sudo apt update\n",
        "!apt-get install openjdk-8-jdk-headless -qq > /dev/null\n",
        "#Check this site for the latest download link https://www.apache.org/dyn/closer.lua/spark/spark-3.2.1/spark-3.2.1-bin-hadoop3.2.tgz\n",
        "!wget -q https://archive.apache.org/dist/spark/spark-3.2.1/spark-3.2.1-bin-hadoop3.2.tgz\n",
        "!tar xf spark-3.2.1-bin-hadoop3.2.tgz\n",
        "!pip install -q findspark\n",
        "!pip install pyspark\n",
        "!pip install py4j"
      ]
    },
    {
      "cell_type": "code",
      "source": [
        "from pyspark.sql import SparkSession  #INICIAR SPARK\n",
        "spark = SparkSession.builder \\\n",
        "               .appName('ml') \\\n",
        "               .getOrCreate()"
      ],
      "metadata": {
        "id": "Z__3SOsxQIXa"
      },
      "execution_count": 2,
      "outputs": []
    },
    {
      "cell_type": "code",
      "source": [
        "df = spark.read.csv('/Movies.csv', header=True, inferSchema=True) #carga del dataset"
      ],
      "metadata": {
        "id": "mT4T4bmFQXRV"
      },
      "execution_count": 10,
      "outputs": []
    },
    {
      "cell_type": "code",
      "source": [
        "df.printSchema() #Vistazo y tipos de dato de las columnas"
      ],
      "metadata": {
        "colab": {
          "base_uri": "https://localhost:8080/"
        },
        "id": "e1p2_wFsQm79",
        "outputId": "5830ea5c-a697-4800-84e6-766c571a520d"
      },
      "execution_count": 4,
      "outputs": [
        {
          "output_type": "stream",
          "name": "stdout",
          "text": [
            "root\n",
            " |-- movie_id: integer (nullable = true)\n",
            " |-- title: string (nullable = true)\n",
            " |-- vote_average: double (nullable = true)\n",
            " |-- vote_count: integer (nullable = true)\n",
            " |-- status: string (nullable = true)\n",
            " |-- release_date: string (nullable = true)\n",
            " |-- revenue: long (nullable = true)\n",
            " |-- adult: boolean (nullable = true)\n",
            " |-- budget: integer (nullable = true)\n",
            " |-- imdb_id: string (nullable = true)\n",
            " |-- original_language: string (nullable = true)\n",
            " |-- original_title: string (nullable = true)\n",
            " |-- overview: string (nullable = true)\n",
            " |-- popularity: double (nullable = true)\n",
            " |-- genres: string (nullable = true)\n",
            " |-- production_companies: string (nullable = true)\n",
            " |-- production_countries: string (nullable = true)\n",
            " |-- spoken_languages: string (nullable = true)\n",
            "\n"
          ]
        }
      ]
    },
    {
      "cell_type": "code",
      "source": [
        "df.show() #vistazo del DF"
      ],
      "metadata": {
        "colab": {
          "base_uri": "https://localhost:8080/"
        },
        "id": "mGy-oB_kQ2L-",
        "outputId": "76c5720c-da3f-4258-c7cf-2f6becfb3e81"
      },
      "execution_count": 5,
      "outputs": [
        {
          "output_type": "stream",
          "name": "stdout",
          "text": [
            "+--------+--------------------+------------+----------+--------+------------+----------+-----+---------+---------+-----------------+--------------------+--------------------+----------+--------------------+--------------------+--------------------+--------------------+\n",
            "|movie_id|               title|vote_average|vote_count|  status|release_date|   revenue|adult|   budget|  imdb_id|original_language|      original_title|            overview|popularity|              genres|production_companies|production_countries|    spoken_languages|\n",
            "+--------+--------------------+------------+----------+--------+------------+----------+-----+---------+---------+-----------------+--------------------+--------------------+----------+--------------------+--------------------+--------------------+--------------------+\n",
            "| 4520010|           Inception|       8.364|     34495|Released|   7/15/2010| 825532764|false|160000000|tt1375666|               en|           Inception|\"Cobb a skilled t...|    83.952|Action Science Fi...|Legendary Picture...|United Kingdom Un...|English French Ja...|\n",
            "| 4520011|        Interstellar|       8.417|     32571|Released|  11/05/2014| 701729206|false|165000000|tt0816692|               en|        Interstellar|The adventures of...|   140.241|Adventure Drama S...|Legendary Picture...|United Kingdom Un...|             English|\n",
            "| 4520012|     The Dark Knight|       8.512|     30619|Released|   7/16/2008|1004558444|false|185000000|tt0468569|               en|     The Dark Knight|Batman raises the...|   130.643|Drama Action Crim...|DC Comics Legenda...|United Kingdom Un...|    English Mandarin|\n",
            "| 4520013|              Avatar|       7.573|     29815|Released|  12/15/2009|2923706026|false|237000000|tt0499549|               en|              Avatar|In the 22nd centu...|    79.932|Action Adventure ...|Dune Entertainmen...|United States of ...|     English Spanish|\n",
            "| 4520014|        The Avengers|        7.71|     29166|Released|   4/25/2012|1518815515|false|220000000|tt0848228|               en|        The Avengers|When an unexpecte...|    98.082|Science Fiction A...|      Marvel Studios|United States of ...|English Hindi Rus...|\n",
            "| 4520015|            Deadpool|       7.606|     28894|Released|  02/09/2016| 783100000|false| 58000000|tt1431045|               en|            Deadpool|The origin story ...|    72.735|Action Adventure ...|20th Century Fox ...|United States of ...|             English|\n",
            "| 4520016|Avengers: Infinit...|       8.255|     27713|Released|   4/25/2018|2052415039|false|300000000|tt4154756|               en|Avengers: Infinit...|As the Avengers a...|    154.34|Adventure Action ...|      Marvel Studios|United States of ...|       English Xhosa|\n",
            "| 4520017|          Fight Club|       8.438|     27238|Released|  10/15/1999| 100853753|false| 63000000|tt0137523|               en|          Fight Club|\"A ticking-time-b...|    69.498|               Drama|Regency Enterpris...|United States of ...|             English|\n",
            "| 4520018|Guardians of the ...|       7.906|     26638|Released|   7/30/2014| 772776600|false|170000000|tt2015381|               en|Guardians of the ...|Light years from ...|    33.255|Action Science Fi...|      Marvel Studios|United States of ...|             English|\n",
            "| 4520019|        Pulp Fiction|       8.488|     25893|Released|  09/10/1994| 213900000|false|  8500000|tt0110912|               en|        Pulp Fiction|A burger-loving h...|    74.862|      Thriller Crime|Miramax A Band Ap...|United States of ...|English Spanish F...|\n",
            "| 4520020|        Forrest Gump|       8.477|     25409|Released|   6/23/1994| 677387716|false| 55000000|tt0109830|               en|        Forrest Gump|A man with a low ...|    92.693|Comedy Drama Romance|Paramount The Ste...|United States of ...|             English|\n",
            "| 4520021|Harry Potter and ...|       7.916|     25379|Released|  11/16/2001| 976475550|false|125000000|tt0241527|               en|Harry Potter and ...|Harry Potter has ...|   185.482|   Adventure Fantasy|Warner Bros. Pict...|United Kingdom Un...|             English|\n",
            "| 4520022|            Iron Man|        7.64|     24874|Released|   4/30/2008| 585174222|false|140000000|tt0371746|               en|            Iron Man|After being held ...|    72.897|Action Science Fi...|      Marvel Studios|United States of ...|English Persian U...|\n",
            "| 4520023|    Django Unchained|       8.171|     24672|Released|  12/25/2012| 425368238|false|100000000|tt1853728|               en|    Django Unchained|With the help of ...|    54.224|       Drama Western|The Weinstein Com...|United States of ...|English French Ge...|\n",
            "| 4520024|The Shawshank Red...|       8.702|     24649|Released|   9/23/1994|  28341469|false| 25000000|tt0111161|               en|The Shawshank Red...|Framed in the 194...|    122.61|         Drama Crime|Castle Rock Enter...|United States of ...|             English|\n",
            "| 4520025|   Avengers: Endgame|       8.263|     23857|Released|   4/24/2019|2800000000|false|356000000|tt4154796|               en|   Avengers: Endgame|After the devasta...|    91.756|Adventure Science...|      Marvel Studios|United States of ...|English Japanese ...|\n",
            "| 4520026|          The Matrix|       8.206|     23815|Released|   3/30/1999| 463517383|false| 63000000|tt0133093|               en|          The Matrix|Set in the 22nd c...|    78.564|Action Science Fi...|Village Roadshow ...|United States of ...|             English|\n",
            "| 4520027|             Titanic|         7.9|     23637|Released|  11/18/1997|2264162353|false|200000000|tt0120338|               en|             Titanic|101-year-old Rose...|   102.348|       Drama Romance|Paramount 20th Ce...|United States of ...|English French Ge...|\n",
            "| 4520028|               Joker|       8.168|     23425|Released|  10/01/2019|1074458282|false| 55000000|tt7286456|               en|               Joker|During the 1980s ...|    54.522|Crime Thriller Drama|Warner Bros. Pict...|Canada United Sta...|             English|\n",
            "| 4520029|The Lord of the R...|       8.402|     23323|Released|  12/18/2001| 871368364|false| 93000000|tt0120737|               en|The Lord of the R...|Young hobbit Frod...|    87.037|Adventure Fantasy...|New Line Cinema W...|New Zealand Unite...|             English|\n",
            "+--------+--------------------+------------+----------+--------+------------+----------+-----+---------+---------+-----------------+--------------------+--------------------+----------+--------------------+--------------------+--------------------+--------------------+\n",
            "only showing top 20 rows\n",
            "\n"
          ]
        }
      ]
    },
    {
      "cell_type": "code",
      "source": [
        "from pyspark.sql import SparkSession\n",
        "from pyspark.sql.functions import col"
      ],
      "metadata": {
        "id": "O2TowTEeUbKM"
      },
      "execution_count": 6,
      "outputs": []
    },
    {
      "cell_type": "code",
      "source": [
        "df.count() #Numero de filas del df"
      ],
      "metadata": {
        "colab": {
          "base_uri": "https://localhost:8080/"
        },
        "id": "9Gniy36KQ6wf",
        "outputId": "1b013a63-0edd-4b08-8937-bfdb7cfceedd"
      },
      "execution_count": 11,
      "outputs": [
        {
          "output_type": "execute_result",
          "data": {
            "text/plain": [
              "1048575"
            ]
          },
          "metadata": {},
          "execution_count": 11
        }
      ]
    },
    {
      "cell_type": "code",
      "source": [
        "from pyspark.sql.functions import count, when\n",
        "\n",
        "# Contar los valores nulos en todas las columnas\n",
        "null_counts = df.agg(*[(count(when(col(c).isNull(), c)).alias(c)) for c in df.columns])\n",
        "null_counts.show()"
      ],
      "metadata": {
        "colab": {
          "base_uri": "https://localhost:8080/"
        },
        "id": "L-36SpnNVWL3",
        "outputId": "00f54327-5f7a-4f70-a5ec-562d70c7158d"
      },
      "execution_count": 12,
      "outputs": [
        {
          "output_type": "stream",
          "name": "stdout",
          "text": [
            "+--------+-----+------------+----------+------+------------+-------+-----+------+-------+-----------------+--------------+--------+----------+------+--------------------+--------------------+----------------+\n",
            "|movie_id|title|vote_average|vote_count|status|release_date|revenue|adult|budget|imdb_id|original_language|original_title|overview|popularity|genres|production_companies|production_countries|spoken_languages|\n",
            "+--------+-----+------------+----------+------+------------+-------+-----+------+-------+-----------------+--------------+--------+----------+------+--------------------+--------------------+----------------+\n",
            "|       0|   16|           0|         0|     0|      149422|      0|    0|     0| 471214|                0|            15|  198224|         0|402283|              560686|              446049|          428440|\n",
            "+--------+-----+------------+----------+------+------------+-------+-----+------+-------+-----------------+--------------+--------+----------+------+--------------------+--------------------+----------------+\n",
            "\n"
          ]
        }
      ]
    },
    {
      "cell_type": "code",
      "source": [
        "df_cleaned = df.dropna() #Eliminar valores nulos"
      ],
      "metadata": {
        "id": "Mxxalp0GV2R_"
      },
      "execution_count": 13,
      "outputs": []
    },
    {
      "cell_type": "code",
      "source": [
        "\n",
        "# Contar valores nulos en todas las columnas del archivo depurado\n",
        "null_counts = df_cleaned.agg(*[(count(when(col(c).isNull(), c)).alias(c)) for c in df_cleaned.columns])\n",
        "null_counts.show()"
      ],
      "metadata": {
        "colab": {
          "base_uri": "https://localhost:8080/"
        },
        "id": "T4UtNnazV9kZ",
        "outputId": "54e23687-a7ed-4ab3-dca9-e7e80a966bed"
      },
      "execution_count": 14,
      "outputs": [
        {
          "output_type": "stream",
          "name": "stdout",
          "text": [
            "+--------+-----+------------+----------+------+------------+-------+-----+------+-------+-----------------+--------------+--------+----------+------+--------------------+--------------------+----------------+\n",
            "|movie_id|title|vote_average|vote_count|status|release_date|revenue|adult|budget|imdb_id|original_language|original_title|overview|popularity|genres|production_companies|production_countries|spoken_languages|\n",
            "+--------+-----+------------+----------+------+------------+-------+-----+------+-------+-----------------+--------------+--------+----------+------+--------------------+--------------------+----------------+\n",
            "|       0|    0|           0|         0|     0|           0|      0|    0|     0|      0|                0|             0|       0|         0|     0|                   0|                   0|               0|\n",
            "+--------+-----+------------+----------+------+------------+-------+-----+------+-------+-----------------+--------------+--------+----------+------+--------------------+--------------------+----------------+\n",
            "\n"
          ]
        }
      ]
    },
    {
      "cell_type": "code",
      "source": [
        "df_cleaned.count() # Numero de registros, debe ser mucho menor al previo"
      ],
      "metadata": {
        "colab": {
          "base_uri": "https://localhost:8080/"
        },
        "id": "t_t5-MEqWLIR",
        "outputId": "29025d9e-af8e-43b4-ed62-727beaa6ce14"
      },
      "execution_count": 15,
      "outputs": [
        {
          "output_type": "execute_result",
          "data": {
            "text/plain": [
              "224173"
            ]
          },
          "metadata": {},
          "execution_count": 15
        }
      ]
    },
    {
      "cell_type": "code",
      "source": [
        "from pyspark.ml.feature import VectorAssembler\n"
      ],
      "metadata": {
        "id": "FAeULx8bguCk"
      },
      "execution_count": 16,
      "outputs": []
    },
    {
      "cell_type": "code",
      "source": [
        "df_cleaned.printSchema()"
      ],
      "metadata": {
        "colab": {
          "base_uri": "https://localhost:8080/"
        },
        "id": "lOj-soZRhKcB",
        "outputId": "20be2b4b-a87b-4bdd-ef07-73d8cab1c12b"
      },
      "execution_count": 17,
      "outputs": [
        {
          "output_type": "stream",
          "name": "stdout",
          "text": [
            "root\n",
            " |-- movie_id: integer (nullable = true)\n",
            " |-- title: string (nullable = true)\n",
            " |-- vote_average: double (nullable = true)\n",
            " |-- vote_count: integer (nullable = true)\n",
            " |-- status: string (nullable = true)\n",
            " |-- release_date: string (nullable = true)\n",
            " |-- revenue: long (nullable = true)\n",
            " |-- adult: boolean (nullable = true)\n",
            " |-- budget: integer (nullable = true)\n",
            " |-- imdb_id: string (nullable = true)\n",
            " |-- original_language: string (nullable = true)\n",
            " |-- original_title: string (nullable = true)\n",
            " |-- overview: string (nullable = true)\n",
            " |-- popularity: double (nullable = true)\n",
            " |-- genres: string (nullable = true)\n",
            " |-- production_companies: string (nullable = true)\n",
            " |-- production_countries: string (nullable = true)\n",
            " |-- spoken_languages: string (nullable = true)\n",
            "\n"
          ]
        }
      ]
    },
    {
      "cell_type": "code",
      "source": [
        "from pyspark.sql.functions import col, to_date"
      ],
      "metadata": {
        "id": "QYvsjU042BN9"
      },
      "execution_count": 18,
      "outputs": []
    },
    {
      "cell_type": "code",
      "source": [
        "df_cleaned.show()"
      ],
      "metadata": {
        "colab": {
          "base_uri": "https://localhost:8080/"
        },
        "id": "XGYsVMGU7DWJ",
        "outputId": "3a2c779a-877c-4d7e-c2dc-05e5baa7bddd"
      },
      "execution_count": 19,
      "outputs": [
        {
          "output_type": "stream",
          "name": "stdout",
          "text": [
            "+--------+--------------------+------------+----------+--------+------------+----------+-----+---------+---------+-----------------+--------------------+--------------------+----------+--------------------+--------------------+--------------------+--------------------+\n",
            "|movie_id|               title|vote_average|vote_count|  status|release_date|   revenue|adult|   budget|  imdb_id|original_language|      original_title|            overview|popularity|              genres|production_companies|production_countries|    spoken_languages|\n",
            "+--------+--------------------+------------+----------+--------+------------+----------+-----+---------+---------+-----------------+--------------------+--------------------+----------+--------------------+--------------------+--------------------+--------------------+\n",
            "| 4520010|           Inception|       8.364|     34495|Released|   7/15/2010| 825532764|false|160000000|tt1375666|               en|           Inception|\"Cobb a skilled t...|    83.952|Action Science Fi...|Legendary Picture...|United Kingdom Un...|English French Ja...|\n",
            "| 4520011|        Interstellar|       8.417|     32571|Released|  11/05/2014| 701729206|false|165000000|tt0816692|               en|        Interstellar|The adventures of...|   140.241|Adventure Drama S...|Legendary Picture...|United Kingdom Un...|             English|\n",
            "| 4520012|     The Dark Knight|       8.512|     30619|Released|   7/16/2008|1004558444|false|185000000|tt0468569|               en|     The Dark Knight|Batman raises the...|   130.643|Drama Action Crim...|DC Comics Legenda...|United Kingdom Un...|    English Mandarin|\n",
            "| 4520013|              Avatar|       7.573|     29815|Released|  12/15/2009|2923706026|false|237000000|tt0499549|               en|              Avatar|In the 22nd centu...|    79.932|Action Adventure ...|Dune Entertainmen...|United States of ...|     English Spanish|\n",
            "| 4520014|        The Avengers|        7.71|     29166|Released|   4/25/2012|1518815515|false|220000000|tt0848228|               en|        The Avengers|When an unexpecte...|    98.082|Science Fiction A...|      Marvel Studios|United States of ...|English Hindi Rus...|\n",
            "| 4520015|            Deadpool|       7.606|     28894|Released|  02/09/2016| 783100000|false| 58000000|tt1431045|               en|            Deadpool|The origin story ...|    72.735|Action Adventure ...|20th Century Fox ...|United States of ...|             English|\n",
            "| 4520016|Avengers: Infinit...|       8.255|     27713|Released|   4/25/2018|2052415039|false|300000000|tt4154756|               en|Avengers: Infinit...|As the Avengers a...|    154.34|Adventure Action ...|      Marvel Studios|United States of ...|       English Xhosa|\n",
            "| 4520017|          Fight Club|       8.438|     27238|Released|  10/15/1999| 100853753|false| 63000000|tt0137523|               en|          Fight Club|\"A ticking-time-b...|    69.498|               Drama|Regency Enterpris...|United States of ...|             English|\n",
            "| 4520018|Guardians of the ...|       7.906|     26638|Released|   7/30/2014| 772776600|false|170000000|tt2015381|               en|Guardians of the ...|Light years from ...|    33.255|Action Science Fi...|      Marvel Studios|United States of ...|             English|\n",
            "| 4520019|        Pulp Fiction|       8.488|     25893|Released|  09/10/1994| 213900000|false|  8500000|tt0110912|               en|        Pulp Fiction|A burger-loving h...|    74.862|      Thriller Crime|Miramax A Band Ap...|United States of ...|English Spanish F...|\n",
            "| 4520020|        Forrest Gump|       8.477|     25409|Released|   6/23/1994| 677387716|false| 55000000|tt0109830|               en|        Forrest Gump|A man with a low ...|    92.693|Comedy Drama Romance|Paramount The Ste...|United States of ...|             English|\n",
            "| 4520021|Harry Potter and ...|       7.916|     25379|Released|  11/16/2001| 976475550|false|125000000|tt0241527|               en|Harry Potter and ...|Harry Potter has ...|   185.482|   Adventure Fantasy|Warner Bros. Pict...|United Kingdom Un...|             English|\n",
            "| 4520022|            Iron Man|        7.64|     24874|Released|   4/30/2008| 585174222|false|140000000|tt0371746|               en|            Iron Man|After being held ...|    72.897|Action Science Fi...|      Marvel Studios|United States of ...|English Persian U...|\n",
            "| 4520023|    Django Unchained|       8.171|     24672|Released|  12/25/2012| 425368238|false|100000000|tt1853728|               en|    Django Unchained|With the help of ...|    54.224|       Drama Western|The Weinstein Com...|United States of ...|English French Ge...|\n",
            "| 4520024|The Shawshank Red...|       8.702|     24649|Released|   9/23/1994|  28341469|false| 25000000|tt0111161|               en|The Shawshank Red...|Framed in the 194...|    122.61|         Drama Crime|Castle Rock Enter...|United States of ...|             English|\n",
            "| 4520025|   Avengers: Endgame|       8.263|     23857|Released|   4/24/2019|2800000000|false|356000000|tt4154796|               en|   Avengers: Endgame|After the devasta...|    91.756|Adventure Science...|      Marvel Studios|United States of ...|English Japanese ...|\n",
            "| 4520026|          The Matrix|       8.206|     23815|Released|   3/30/1999| 463517383|false| 63000000|tt0133093|               en|          The Matrix|Set in the 22nd c...|    78.564|Action Science Fi...|Village Roadshow ...|United States of ...|             English|\n",
            "| 4520027|             Titanic|         7.9|     23637|Released|  11/18/1997|2264162353|false|200000000|tt0120338|               en|             Titanic|101-year-old Rose...|   102.348|       Drama Romance|Paramount 20th Ce...|United States of ...|English French Ge...|\n",
            "| 4520028|               Joker|       8.168|     23425|Released|  10/01/2019|1074458282|false| 55000000|tt7286456|               en|               Joker|During the 1980s ...|    54.522|Crime Thriller Drama|Warner Bros. Pict...|Canada United Sta...|             English|\n",
            "| 4520029|The Lord of the R...|       8.402|     23323|Released|  12/18/2001| 871368364|false| 93000000|tt0120737|               en|The Lord of the R...|Young hobbit Frod...|    87.037|Adventure Fantasy...|New Line Cinema W...|New Zealand Unite...|             English|\n",
            "+--------+--------------------+------------+----------+--------+------------+----------+-----+---------+---------+-----------------+--------------------+--------------------+----------+--------------------+--------------------+--------------------+--------------------+\n",
            "only showing top 20 rows\n",
            "\n"
          ]
        }
      ]
    },
    {
      "cell_type": "code",
      "source": [
        "from pyspark.sql.functions import regexp_replace\n",
        "\n",
        "df = df_cleaned.withColumn(\"release_date\", regexp_replace(df_cleaned[\"release_date\"], \"/\",\"-\")) #cambiar el \"/\" pór \"-\""
      ],
      "metadata": {
        "id": "07kMx_Ep3Qz2"
      },
      "execution_count": 20,
      "outputs": []
    },
    {
      "cell_type": "code",
      "source": [
        "df.printSchema() #la fecha (release_date) sigue siendo un string"
      ],
      "metadata": {
        "colab": {
          "base_uri": "https://localhost:8080/"
        },
        "id": "LOCZGfjB9_Qx",
        "outputId": "ab316123-0d31-47fd-ead9-45d2807909f5"
      },
      "execution_count": 21,
      "outputs": [
        {
          "output_type": "stream",
          "name": "stdout",
          "text": [
            "root\n",
            " |-- movie_id: integer (nullable = true)\n",
            " |-- title: string (nullable = true)\n",
            " |-- vote_average: double (nullable = true)\n",
            " |-- vote_count: integer (nullable = true)\n",
            " |-- status: string (nullable = true)\n",
            " |-- release_date: string (nullable = true)\n",
            " |-- revenue: long (nullable = true)\n",
            " |-- adult: boolean (nullable = true)\n",
            " |-- budget: integer (nullable = true)\n",
            " |-- imdb_id: string (nullable = true)\n",
            " |-- original_language: string (nullable = true)\n",
            " |-- original_title: string (nullable = true)\n",
            " |-- overview: string (nullable = true)\n",
            " |-- popularity: double (nullable = true)\n",
            " |-- genres: string (nullable = true)\n",
            " |-- production_companies: string (nullable = true)\n",
            " |-- production_countries: string (nullable = true)\n",
            " |-- spoken_languages: string (nullable = true)\n",
            "\n"
          ]
        }
      ]
    },
    {
      "cell_type": "code",
      "source": [
        "from pyspark.sql.functions import  lpad\n"
      ],
      "metadata": {
        "id": "YscwQ3Oy_qZx"
      },
      "execution_count": 22,
      "outputs": []
    },
    {
      "cell_type": "code",
      "source": [
        "df = df.withColumn(\"release_date\", regexp_replace(lpad(regexp_replace(df[\"release_date\"],\n",
        "                                                                      '-', '/'),10, \"0\"),\n",
        "                                                  '/', '-')) #Rellena con 0 los meses con un sólo digito"
      ],
      "metadata": {
        "id": "jdipPtcv9UnR"
      },
      "execution_count": 23,
      "outputs": []
    },
    {
      "cell_type": "code",
      "source": [
        "df.show()"
      ],
      "metadata": {
        "colab": {
          "base_uri": "https://localhost:8080/"
        },
        "id": "2CE4zwHR68H5",
        "outputId": "ce89fe0b-23b3-431a-d462-5860a02d8410"
      },
      "execution_count": null,
      "outputs": [
        {
          "output_type": "stream",
          "name": "stdout",
          "text": [
            "+--------+--------------------+------------+----------+--------+------------+----------+-----+---------+---------+-----------------+--------------------+--------------------+----------+--------------------+--------------------+--------------------+--------------------+\n",
            "|movie_id|               title|vote_average|vote_count|  status|release_date|   revenue|adult|   budget|  imdb_id|original_language|      original_title|            overview|popularity|              genres|production_companies|production_countries|    spoken_languages|\n",
            "+--------+--------------------+------------+----------+--------+------------+----------+-----+---------+---------+-----------------+--------------------+--------------------+----------+--------------------+--------------------+--------------------+--------------------+\n",
            "| 4520010|           Inception|       8.364|     34495|Released|  07-15-2010| 825532764|false|160000000|tt1375666|               en|           Inception|\"Cobb a skilled t...|    83.952|Action Science Fi...|Legendary Picture...|United Kingdom Un...|English French Ja...|\n",
            "| 4520011|        Interstellar|       8.417|     32571|Released|  11-05-2014| 701729206|false|165000000|tt0816692|               en|        Interstellar|The adventures of...|   140.241|Adventure Drama S...|Legendary Picture...|United Kingdom Un...|             English|\n",
            "| 4520012|     The Dark Knight|       8.512|     30619|Released|  07-16-2008|1004558444|false|185000000|tt0468569|               en|     The Dark Knight|Batman raises the...|   130.643|Drama Action Crim...|DC Comics Legenda...|United Kingdom Un...|    English Mandarin|\n",
            "| 4520013|              Avatar|       7.573|     29815|Released|  12-15-2009|2923706026|false|237000000|tt0499549|               en|              Avatar|In the 22nd centu...|    79.932|Action Adventure ...|Dune Entertainmen...|United States of ...|     English Spanish|\n",
            "| 4520014|        The Avengers|        7.71|     29166|Released|  04-25-2012|1518815515|false|220000000|tt0848228|               en|        The Avengers|When an unexpecte...|    98.082|Science Fiction A...|      Marvel Studios|United States of ...|English Hindi Rus...|\n",
            "| 4520015|            Deadpool|       7.606|     28894|Released|  02-09-2016| 783100000|false| 58000000|tt1431045|               en|            Deadpool|The origin story ...|    72.735|Action Adventure ...|20th Century Fox ...|United States of ...|             English|\n",
            "| 4520016|Avengers: Infinit...|       8.255|     27713|Released|  04-25-2018|2052415039|false|300000000|tt4154756|               en|Avengers: Infinit...|As the Avengers a...|    154.34|Adventure Action ...|      Marvel Studios|United States of ...|       English Xhosa|\n",
            "| 4520017|          Fight Club|       8.438|     27238|Released|  10-15-1999| 100853753|false| 63000000|tt0137523|               en|          Fight Club|\"A ticking-time-b...|    69.498|               Drama|Regency Enterpris...|United States of ...|             English|\n",
            "| 4520018|Guardians of the ...|       7.906|     26638|Released|  07-30-2014| 772776600|false|170000000|tt2015381|               en|Guardians of the ...|Light years from ...|    33.255|Action Science Fi...|      Marvel Studios|United States of ...|             English|\n",
            "| 4520019|        Pulp Fiction|       8.488|     25893|Released|  09-10-1994| 213900000|false|  8500000|tt0110912|               en|        Pulp Fiction|A burger-loving h...|    74.862|      Thriller Crime|Miramax A Band Ap...|United States of ...|English Spanish F...|\n",
            "| 4520020|        Forrest Gump|       8.477|     25409|Released|  06-23-1994| 677387716|false| 55000000|tt0109830|               en|        Forrest Gump|A man with a low ...|    92.693|Comedy Drama Romance|Paramount The Ste...|United States of ...|             English|\n",
            "| 4520021|Harry Potter and ...|       7.916|     25379|Released|  11-16-2001| 976475550|false|125000000|tt0241527|               en|Harry Potter and ...|Harry Potter has ...|   185.482|   Adventure Fantasy|Warner Bros. Pict...|United Kingdom Un...|             English|\n",
            "| 4520022|            Iron Man|        7.64|     24874|Released|  04-30-2008| 585174222|false|140000000|tt0371746|               en|            Iron Man|After being held ...|    72.897|Action Science Fi...|      Marvel Studios|United States of ...|English Persian U...|\n",
            "| 4520023|    Django Unchained|       8.171|     24672|Released|  12-25-2012| 425368238|false|100000000|tt1853728|               en|    Django Unchained|With the help of ...|    54.224|       Drama Western|The Weinstein Com...|United States of ...|English French Ge...|\n",
            "| 4520024|The Shawshank Red...|       8.702|     24649|Released|  09-23-1994|  28341469|false| 25000000|tt0111161|               en|The Shawshank Red...|Framed in the 194...|    122.61|         Drama Crime|Castle Rock Enter...|United States of ...|             English|\n",
            "| 4520025|   Avengers: Endgame|       8.263|     23857|Released|  04-24-2019|2800000000|false|356000000|tt4154796|               en|   Avengers: Endgame|After the devasta...|    91.756|Adventure Science...|      Marvel Studios|United States of ...|English Japanese ...|\n",
            "| 4520026|          The Matrix|       8.206|     23815|Released|  03-30-1999| 463517383|false| 63000000|tt0133093|               en|          The Matrix|Set in the 22nd c...|    78.564|Action Science Fi...|Village Roadshow ...|United States of ...|             English|\n",
            "| 4520027|             Titanic|         7.9|     23637|Released|  11-18-1997|2264162353|false|200000000|tt0120338|               en|             Titanic|101-year-old Rose...|   102.348|       Drama Romance|Paramount 20th Ce...|United States of ...|English French Ge...|\n",
            "| 4520028|               Joker|       8.168|     23425|Released|  10-01-2019|1074458282|false| 55000000|tt7286456|               en|               Joker|During the 1980s ...|    54.522|Crime Thriller Drama|Warner Bros. Pict...|Canada United Sta...|             English|\n",
            "| 4520029|The Lord of the R...|       8.402|     23323|Released|  12-18-2001| 871368364|false| 93000000|tt0120737|               en|The Lord of the R...|Young hobbit Frod...|    87.037|Adventure Fantasy...|New Line Cinema W...|New Zealand Unite...|             English|\n",
            "+--------+--------------------+------------+----------+--------+------------+----------+-----+---------+---------+-----------------+--------------------+--------------------+----------+--------------------+--------------------+--------------------+--------------------+\n",
            "only showing top 20 rows\n",
            "\n"
          ]
        }
      ]
    },
    {
      "cell_type": "code",
      "source": [
        "df= df.withColumn(\"release_date\", to_date(df[\"release_date\"], \"MM-dd-yyyy\")) #Convertir a formato fecha"
      ],
      "metadata": {
        "id": "VpZYODFNAZ16"
      },
      "execution_count": 24,
      "outputs": []
    },
    {
      "cell_type": "code",
      "source": [
        "df.printSchema() #Comprobar el tipo de dato"
      ],
      "metadata": {
        "colab": {
          "base_uri": "https://localhost:8080/"
        },
        "id": "wxT6uGsxAny6",
        "outputId": "ae4f74fe-0dfb-4d97-bc37-ed9b9cb5c803"
      },
      "execution_count": 25,
      "outputs": [
        {
          "output_type": "stream",
          "name": "stdout",
          "text": [
            "root\n",
            " |-- movie_id: integer (nullable = true)\n",
            " |-- title: string (nullable = true)\n",
            " |-- vote_average: double (nullable = true)\n",
            " |-- vote_count: integer (nullable = true)\n",
            " |-- status: string (nullable = true)\n",
            " |-- release_date: date (nullable = true)\n",
            " |-- revenue: long (nullable = true)\n",
            " |-- adult: boolean (nullable = true)\n",
            " |-- budget: integer (nullable = true)\n",
            " |-- imdb_id: string (nullable = true)\n",
            " |-- original_language: string (nullable = true)\n",
            " |-- original_title: string (nullable = true)\n",
            " |-- overview: string (nullable = true)\n",
            " |-- popularity: double (nullable = true)\n",
            " |-- genres: string (nullable = true)\n",
            " |-- production_companies: string (nullable = true)\n",
            " |-- production_countries: string (nullable = true)\n",
            " |-- spoken_languages: string (nullable = true)\n",
            "\n"
          ]
        }
      ]
    },
    {
      "cell_type": "code",
      "source": [
        "from pyspark.sql.functions import year\n"
      ],
      "metadata": {
        "id": "f1mE8HGiHXTc"
      },
      "execution_count": 26,
      "outputs": []
    },
    {
      "cell_type": "code",
      "source": [
        "df = df.withColumn('año', year(df['release_date'])) #generar una columna sólo del año de lanzamiento\n"
      ],
      "metadata": {
        "id": "7h6dP9K0GV77"
      },
      "execution_count": 27,
      "outputs": []
    },
    {
      "cell_type": "code",
      "source": [
        "df.show()"
      ],
      "metadata": {
        "colab": {
          "base_uri": "https://localhost:8080/"
        },
        "id": "32MVv3QFHZNW",
        "outputId": "ba2dc857-b96e-4bf7-a69b-97dcb5a333a1"
      },
      "execution_count": 28,
      "outputs": [
        {
          "output_type": "stream",
          "name": "stdout",
          "text": [
            "+--------+--------------------+------------+----------+--------+------------+----------+-----+---------+---------+-----------------+--------------------+--------------------+----------+--------------------+--------------------+--------------------+--------------------+----+\n",
            "|movie_id|               title|vote_average|vote_count|  status|release_date|   revenue|adult|   budget|  imdb_id|original_language|      original_title|            overview|popularity|              genres|production_companies|production_countries|    spoken_languages| año|\n",
            "+--------+--------------------+------------+----------+--------+------------+----------+-----+---------+---------+-----------------+--------------------+--------------------+----------+--------------------+--------------------+--------------------+--------------------+----+\n",
            "| 4520010|           Inception|       8.364|     34495|Released|  2010-07-15| 825532764|false|160000000|tt1375666|               en|           Inception|\"Cobb a skilled t...|    83.952|Action Science Fi...|Legendary Picture...|United Kingdom Un...|English French Ja...|2010|\n",
            "| 4520011|        Interstellar|       8.417|     32571|Released|  2014-11-05| 701729206|false|165000000|tt0816692|               en|        Interstellar|The adventures of...|   140.241|Adventure Drama S...|Legendary Picture...|United Kingdom Un...|             English|2014|\n",
            "| 4520012|     The Dark Knight|       8.512|     30619|Released|  2008-07-16|1004558444|false|185000000|tt0468569|               en|     The Dark Knight|Batman raises the...|   130.643|Drama Action Crim...|DC Comics Legenda...|United Kingdom Un...|    English Mandarin|2008|\n",
            "| 4520013|              Avatar|       7.573|     29815|Released|  2009-12-15|2923706026|false|237000000|tt0499549|               en|              Avatar|In the 22nd centu...|    79.932|Action Adventure ...|Dune Entertainmen...|United States of ...|     English Spanish|2009|\n",
            "| 4520014|        The Avengers|        7.71|     29166|Released|  2012-04-25|1518815515|false|220000000|tt0848228|               en|        The Avengers|When an unexpecte...|    98.082|Science Fiction A...|      Marvel Studios|United States of ...|English Hindi Rus...|2012|\n",
            "| 4520015|            Deadpool|       7.606|     28894|Released|  2016-02-09| 783100000|false| 58000000|tt1431045|               en|            Deadpool|The origin story ...|    72.735|Action Adventure ...|20th Century Fox ...|United States of ...|             English|2016|\n",
            "| 4520016|Avengers: Infinit...|       8.255|     27713|Released|  2018-04-25|2052415039|false|300000000|tt4154756|               en|Avengers: Infinit...|As the Avengers a...|    154.34|Adventure Action ...|      Marvel Studios|United States of ...|       English Xhosa|2018|\n",
            "| 4520017|          Fight Club|       8.438|     27238|Released|  1999-10-15| 100853753|false| 63000000|tt0137523|               en|          Fight Club|\"A ticking-time-b...|    69.498|               Drama|Regency Enterpris...|United States of ...|             English|1999|\n",
            "| 4520018|Guardians of the ...|       7.906|     26638|Released|  2014-07-30| 772776600|false|170000000|tt2015381|               en|Guardians of the ...|Light years from ...|    33.255|Action Science Fi...|      Marvel Studios|United States of ...|             English|2014|\n",
            "| 4520019|        Pulp Fiction|       8.488|     25893|Released|  1994-09-10| 213900000|false|  8500000|tt0110912|               en|        Pulp Fiction|A burger-loving h...|    74.862|      Thriller Crime|Miramax A Band Ap...|United States of ...|English Spanish F...|1994|\n",
            "| 4520020|        Forrest Gump|       8.477|     25409|Released|  1994-06-23| 677387716|false| 55000000|tt0109830|               en|        Forrest Gump|A man with a low ...|    92.693|Comedy Drama Romance|Paramount The Ste...|United States of ...|             English|1994|\n",
            "| 4520021|Harry Potter and ...|       7.916|     25379|Released|  2001-11-16| 976475550|false|125000000|tt0241527|               en|Harry Potter and ...|Harry Potter has ...|   185.482|   Adventure Fantasy|Warner Bros. Pict...|United Kingdom Un...|             English|2001|\n",
            "| 4520022|            Iron Man|        7.64|     24874|Released|  2008-04-30| 585174222|false|140000000|tt0371746|               en|            Iron Man|After being held ...|    72.897|Action Science Fi...|      Marvel Studios|United States of ...|English Persian U...|2008|\n",
            "| 4520023|    Django Unchained|       8.171|     24672|Released|  2012-12-25| 425368238|false|100000000|tt1853728|               en|    Django Unchained|With the help of ...|    54.224|       Drama Western|The Weinstein Com...|United States of ...|English French Ge...|2012|\n",
            "| 4520024|The Shawshank Red...|       8.702|     24649|Released|  1994-09-23|  28341469|false| 25000000|tt0111161|               en|The Shawshank Red...|Framed in the 194...|    122.61|         Drama Crime|Castle Rock Enter...|United States of ...|             English|1994|\n",
            "| 4520025|   Avengers: Endgame|       8.263|     23857|Released|  2019-04-24|2800000000|false|356000000|tt4154796|               en|   Avengers: Endgame|After the devasta...|    91.756|Adventure Science...|      Marvel Studios|United States of ...|English Japanese ...|2019|\n",
            "| 4520026|          The Matrix|       8.206|     23815|Released|  1999-03-30| 463517383|false| 63000000|tt0133093|               en|          The Matrix|Set in the 22nd c...|    78.564|Action Science Fi...|Village Roadshow ...|United States of ...|             English|1999|\n",
            "| 4520027|             Titanic|         7.9|     23637|Released|  1997-11-18|2264162353|false|200000000|tt0120338|               en|             Titanic|101-year-old Rose...|   102.348|       Drama Romance|Paramount 20th Ce...|United States of ...|English French Ge...|1997|\n",
            "| 4520028|               Joker|       8.168|     23425|Released|  2019-10-01|1074458282|false| 55000000|tt7286456|               en|               Joker|During the 1980s ...|    54.522|Crime Thriller Drama|Warner Bros. Pict...|Canada United Sta...|             English|2019|\n",
            "| 4520029|The Lord of the R...|       8.402|     23323|Released|  2001-12-18| 871368364|false| 93000000|tt0120737|               en|The Lord of the R...|Young hobbit Frod...|    87.037|Adventure Fantasy...|New Line Cinema W...|New Zealand Unite...|             English|2001|\n",
            "+--------+--------------------+------------+----------+--------+------------+----------+-----+---------+---------+-----------------+--------------------+--------------------+----------+--------------------+--------------------+--------------------+--------------------+----+\n",
            "only showing top 20 rows\n",
            "\n"
          ]
        }
      ]
    },
    {
      "cell_type": "code",
      "source": [
        "from pyspark.ml.feature import VectorAssembler, ChiSqSelector"
      ],
      "metadata": {
        "id": "7utQgILdFgIK"
      },
      "execution_count": 29,
      "outputs": []
    },
    {
      "cell_type": "markdown",
      "source": [
        "Para poder usar de manera adecuada la fecha como input la generé una columna sólo con el año y divido las peliculas en si son para adultos \"1\" o si no lo son \"0\""
      ],
      "metadata": {
        "id": "42k6z1gGIFCs"
      }
    },
    {
      "cell_type": "code",
      "source": [
        "df = df.withColumn(\"adult\", when(df[\"adult\"] == \"False\", 0).otherwise(1))\n"
      ],
      "metadata": {
        "id": "Ag6qclPneUCE"
      },
      "execution_count": 30,
      "outputs": []
    },
    {
      "cell_type": "code",
      "source": [
        "df = df.withColumn(\"status\", when(df[\"status\"] == \"Released\", 1).otherwise(0))"
      ],
      "metadata": {
        "id": "su1Yt8-IgX-r"
      },
      "execution_count": 31,
      "outputs": []
    },
    {
      "cell_type": "code",
      "source": [
        "df.show(5)"
      ],
      "metadata": {
        "colab": {
          "base_uri": "https://localhost:8080/"
        },
        "id": "QmDRI7fge_iz",
        "outputId": "240825b1-a6f2-4c4e-d228-36f3d5575802"
      },
      "execution_count": 32,
      "outputs": [
        {
          "output_type": "stream",
          "name": "stdout",
          "text": [
            "+--------+---------------+------------+----------+------+------------+----------+-----+---------+---------+-----------------+---------------+--------------------+----------+--------------------+--------------------+--------------------+--------------------+----+\n",
            "|movie_id|          title|vote_average|vote_count|status|release_date|   revenue|adult|   budget|  imdb_id|original_language| original_title|            overview|popularity|              genres|production_companies|production_countries|    spoken_languages| año|\n",
            "+--------+---------------+------------+----------+------+------------+----------+-----+---------+---------+-----------------+---------------+--------------------+----------+--------------------+--------------------+--------------------+--------------------+----+\n",
            "| 4520010|      Inception|       8.364|     34495|     1|  2010-07-15| 825532764|    0|160000000|tt1375666|               en|      Inception|\"Cobb a skilled t...|    83.952|Action Science Fi...|Legendary Picture...|United Kingdom Un...|English French Ja...|2010|\n",
            "| 4520011|   Interstellar|       8.417|     32571|     1|  2014-11-05| 701729206|    0|165000000|tt0816692|               en|   Interstellar|The adventures of...|   140.241|Adventure Drama S...|Legendary Picture...|United Kingdom Un...|             English|2014|\n",
            "| 4520012|The Dark Knight|       8.512|     30619|     1|  2008-07-16|1004558444|    0|185000000|tt0468569|               en|The Dark Knight|Batman raises the...|   130.643|Drama Action Crim...|DC Comics Legenda...|United Kingdom Un...|    English Mandarin|2008|\n",
            "| 4520013|         Avatar|       7.573|     29815|     1|  2009-12-15|2923706026|    0|237000000|tt0499549|               en|         Avatar|In the 22nd centu...|    79.932|Action Adventure ...|Dune Entertainmen...|United States of ...|     English Spanish|2009|\n",
            "| 4520014|   The Avengers|        7.71|     29166|     1|  2012-04-25|1518815515|    0|220000000|tt0848228|               en|   The Avengers|When an unexpecte...|    98.082|Science Fiction A...|      Marvel Studios|United States of ...|English Hindi Rus...|2012|\n",
            "+--------+---------------+------------+----------+------+------------+----------+-----+---------+---------+-----------------+---------------+--------------------+----------+--------------------+--------------------+--------------------+--------------------+----+\n",
            "only showing top 5 rows\n",
            "\n"
          ]
        }
      ]
    },
    {
      "cell_type": "code",
      "source": [
        "\n",
        "# volver a validar fdatos nulos ya que algunas fechas no tienen el dato año\n",
        "null_count = df.agg(*[(count(when(col(c).isNull(), c)).alias(c)) for c in df.columns])\n",
        "null_count.show()"
      ],
      "metadata": {
        "colab": {
          "base_uri": "https://localhost:8080/"
        },
        "id": "GQD0rksIm5XV",
        "outputId": "0196e1b8-b754-4b5f-d756-e8fe29c67632"
      },
      "execution_count": 33,
      "outputs": [
        {
          "output_type": "stream",
          "name": "stdout",
          "text": [
            "+--------+-----+------------+----------+------+------------+-------+-----+------+-------+-----------------+--------------+--------+----------+------+--------------------+--------------------+----------------+---+\n",
            "|movie_id|title|vote_average|vote_count|status|release_date|revenue|adult|budget|imdb_id|original_language|original_title|overview|popularity|genres|production_companies|production_countries|spoken_languages|año|\n",
            "+--------+-----+------------+----------+------+------------+-------+-----+------+-------+-----------------+--------------+--------+----------+------+--------------------+--------------------+----------------+---+\n",
            "|       0|    0|           0|         0|     0|         497|      0|    0|     0|      0|                0|             0|       0|         0|     0|                   0|                   0|               0|497|\n",
            "+--------+-----+------------+----------+------+------------+-------+-----+------+-------+-----------------+--------------+--------+----------+------+--------------------+--------------------+----------------+---+\n",
            "\n"
          ]
        }
      ]
    },
    {
      "cell_type": "code",
      "source": [
        "df = df.dropna()"
      ],
      "metadata": {
        "id": "2X166EtHnGG-"
      },
      "execution_count": 34,
      "outputs": []
    },
    {
      "cell_type": "code",
      "source": [
        "salida = \"/Movies_clean\" #guardo el archivo para futuros ejercicios\n",
        "df.write.option(\"header\", \"true\").csv(salida)"
      ],
      "metadata": {
        "id": "4UU6-sIGitqI"
      },
      "execution_count": 39,
      "outputs": []
    },
    {
      "cell_type": "code",
      "source": [],
      "metadata": {
        "id": "4N5lWo7yibhw"
      },
      "execution_count": null,
      "outputs": []
    },
    {
      "cell_type": "code",
      "source": [
        "from pyspark.sql.functions import ltrim, StringType\n"
      ],
      "metadata": {
        "id": "E64kOaSIh1OT"
      },
      "execution_count": 40,
      "outputs": []
    },
    {
      "cell_type": "code",
      "source": [
        "df = df.select([ltrim(col(c)).alias(c) if isinstance(df.schema[c].dataType, StringType) else col(c) for c in df.columns])\n"
      ],
      "metadata": {
        "id": "-AFOHM3ehvbj"
      },
      "execution_count": 41,
      "outputs": []
    },
    {
      "cell_type": "code",
      "source": [
        "df_excluido = df.drop(\"title\",\"release_date\",\n",
        "                      \"original_language\",\"original_title\",\n",
        "                      \"overview\",\"genres\", \"production_companies\",\"production_countries\"\n",
        "                      \"spoken_languages\")\n"
      ],
      "metadata": {
        "id": "RlxfoO_ef6XS"
      },
      "execution_count": 48,
      "outputs": []
    },
    {
      "cell_type": "code",
      "source": [
        "df_excluido.show(5)"
      ],
      "metadata": {
        "colab": {
          "base_uri": "https://localhost:8080/"
        },
        "id": "Ymul3fHQi4K9",
        "outputId": "6b3814ae-79ec-4243-83b9-b0052a838ee0"
      },
      "execution_count": 49,
      "outputs": [
        {
          "output_type": "stream",
          "name": "stdout",
          "text": [
            "+--------+------------+----------+------+----------+-----+---------+---------+----------+--------------------+--------------------+----+\n",
            "|movie_id|vote_average|vote_count|status|   revenue|adult|   budget|  imdb_id|popularity|production_countries|    spoken_languages| año|\n",
            "+--------+------------+----------+------+----------+-----+---------+---------+----------+--------------------+--------------------+----+\n",
            "| 4520010|       8.364|     34495|     1| 825532764|    0|160000000|tt1375666|    83.952|United Kingdom Un...|English French Ja...|2010|\n",
            "| 4520011|       8.417|     32571|     1| 701729206|    0|165000000|tt0816692|   140.241|United Kingdom Un...|             English|2014|\n",
            "| 4520012|       8.512|     30619|     1|1004558444|    0|185000000|tt0468569|   130.643|United Kingdom Un...|    English Mandarin|2008|\n",
            "| 4520013|       7.573|     29815|     1|2923706026|    0|237000000|tt0499549|    79.932|United States of ...|     English Spanish|2009|\n",
            "| 4520014|        7.71|     29166|     1|1518815515|    0|220000000|tt0848228|    98.082|United States of ...|English Hindi Rus...|2012|\n",
            "+--------+------------+----------+------+----------+-----+---------+---------+----------+--------------------+--------------------+----+\n",
            "only showing top 5 rows\n",
            "\n"
          ]
        }
      ]
    },
    {
      "cell_type": "code",
      "source": [
        "df_ex = df_excluido.drop(\"production_countries\",\"spoken_languages\", \"imdb_id\")"
      ],
      "metadata": {
        "id": "RsF9HXLPidNr"
      },
      "execution_count": 50,
      "outputs": []
    },
    {
      "cell_type": "code",
      "source": [
        "df_ex.show(5) # DF sólo con datos numéricos"
      ],
      "metadata": {
        "colab": {
          "base_uri": "https://localhost:8080/"
        },
        "id": "D6rqgbs1hPu8",
        "outputId": "5fc79020-f7e9-451a-a0f0-8d61e5844bd4"
      },
      "execution_count": 51,
      "outputs": [
        {
          "output_type": "stream",
          "name": "stdout",
          "text": [
            "+--------+------------+----------+------+----------+-----+---------+----------+----+\n",
            "|movie_id|vote_average|vote_count|status|   revenue|adult|   budget|popularity| año|\n",
            "+--------+------------+----------+------+----------+-----+---------+----------+----+\n",
            "| 4520010|       8.364|     34495|     1| 825532764|    0|160000000|    83.952|2010|\n",
            "| 4520011|       8.417|     32571|     1| 701729206|    0|165000000|   140.241|2014|\n",
            "| 4520012|       8.512|     30619|     1|1004558444|    0|185000000|   130.643|2008|\n",
            "| 4520013|       7.573|     29815|     1|2923706026|    0|237000000|    79.932|2009|\n",
            "| 4520014|        7.71|     29166|     1|1518815515|    0|220000000|    98.082|2012|\n",
            "+--------+------------+----------+------+----------+-----+---------+----------+----+\n",
            "only showing top 5 rows\n",
            "\n"
          ]
        }
      ]
    },
    {
      "cell_type": "code",
      "source": [
        "df_ex.printSchema()"
      ],
      "metadata": {
        "colab": {
          "base_uri": "https://localhost:8080/"
        },
        "id": "FhgUCeFfjQhU",
        "outputId": "7b839646-a5dc-46ed-e02b-f947ee0ece88"
      },
      "execution_count": 52,
      "outputs": [
        {
          "output_type": "stream",
          "name": "stdout",
          "text": [
            "root\n",
            " |-- movie_id: integer (nullable = true)\n",
            " |-- vote_average: double (nullable = true)\n",
            " |-- vote_count: integer (nullable = true)\n",
            " |-- status: integer (nullable = false)\n",
            " |-- revenue: long (nullable = true)\n",
            " |-- adult: integer (nullable = false)\n",
            " |-- budget: integer (nullable = true)\n",
            " |-- popularity: double (nullable = true)\n",
            " |-- año: integer (nullable = true)\n",
            "\n"
          ]
        }
      ]
    },
    {
      "cell_type": "code",
      "source": [
        "from pyspark.sql.types import IntegerType\n",
        "df_fin = df_ex.select([col(c).cast(IntegerType()).alias(c) for c in df_ex.columns])\n"
      ],
      "metadata": {
        "id": "xyCHl_AGlXQ8"
      },
      "execution_count": 53,
      "outputs": []
    },
    {
      "cell_type": "code",
      "source": [
        "df_fin.show(5) #vistazo a los datos numéricos ya como enteros"
      ],
      "metadata": {
        "colab": {
          "base_uri": "https://localhost:8080/"
        },
        "id": "tqohktw_lha-",
        "outputId": "b6be6b12-7bf7-430f-e148-8c06b8fc3667"
      },
      "execution_count": 54,
      "outputs": [
        {
          "output_type": "stream",
          "name": "stdout",
          "text": [
            "+--------+------------+----------+------+-----------+-----+---------+----------+----+\n",
            "|movie_id|vote_average|vote_count|status|    revenue|adult|   budget|popularity| año|\n",
            "+--------+------------+----------+------+-----------+-----+---------+----------+----+\n",
            "| 4520010|           8|     34495|     1|  825532764|    0|160000000|        83|2010|\n",
            "| 4520011|           8|     32571|     1|  701729206|    0|165000000|       140|2014|\n",
            "| 4520012|           8|     30619|     1| 1004558444|    0|185000000|       130|2008|\n",
            "| 4520013|           7|     29815|     1|-1371261270|    0|237000000|        79|2009|\n",
            "| 4520014|           7|     29166|     1| 1518815515|    0|220000000|        98|2012|\n",
            "+--------+------------+----------+------+-----------+-----+---------+----------+----+\n",
            "only showing top 5 rows\n",
            "\n"
          ]
        }
      ]
    },
    {
      "cell_type": "code",
      "source": [
        "df_fin.printSchema() #comprobar que todos los datos sean int"
      ],
      "metadata": {
        "colab": {
          "base_uri": "https://localhost:8080/"
        },
        "id": "G7q65HBTlfo-",
        "outputId": "6739d30a-27f2-45fa-937f-8b9330a98494"
      },
      "execution_count": 55,
      "outputs": [
        {
          "output_type": "stream",
          "name": "stdout",
          "text": [
            "root\n",
            " |-- movie_id: integer (nullable = true)\n",
            " |-- vote_average: integer (nullable = true)\n",
            " |-- vote_count: integer (nullable = true)\n",
            " |-- status: integer (nullable = false)\n",
            " |-- revenue: integer (nullable = true)\n",
            " |-- adult: integer (nullable = false)\n",
            " |-- budget: integer (nullable = true)\n",
            " |-- popularity: integer (nullable = true)\n",
            " |-- año: integer (nullable = true)\n",
            "\n"
          ]
        }
      ]
    },
    {
      "cell_type": "code",
      "source": [
        "inputCols = [\"año\", \"vote_average\", \"status\"]\n",
        "assembler = VectorAssembler(inputCols=inputCols, outputCol=\"features\")\n",
        "\n",
        "df_with_features = assembler.transform(df_fin)\n",
        "df_with_features.select(\"features\").show(10,False)"
      ],
      "metadata": {
        "colab": {
          "base_uri": "https://localhost:8080/"
        },
        "id": "v-1mQ5yshXNi",
        "outputId": "90278ec0-fd83-44ed-b634-58055efe92b4"
      },
      "execution_count": 56,
      "outputs": [
        {
          "output_type": "stream",
          "name": "stdout",
          "text": [
            "+----------------+\n",
            "|features        |\n",
            "+----------------+\n",
            "|[2010.0,8.0,1.0]|\n",
            "|[2014.0,8.0,1.0]|\n",
            "|[2008.0,8.0,1.0]|\n",
            "|[2009.0,7.0,1.0]|\n",
            "|[2012.0,7.0,1.0]|\n",
            "|[2016.0,7.0,1.0]|\n",
            "|[2018.0,8.0,1.0]|\n",
            "|[1999.0,8.0,1.0]|\n",
            "|[2014.0,7.0,1.0]|\n",
            "|[1994.0,8.0,1.0]|\n",
            "+----------------+\n",
            "only showing top 10 rows\n",
            "\n"
          ]
        }
      ]
    },
    {
      "cell_type": "code",
      "source": [
        "df_with_features.show(4)"
      ],
      "metadata": {
        "colab": {
          "base_uri": "https://localhost:8080/"
        },
        "id": "Bi06EdqLWltA",
        "outputId": "0050e6b1-7800-43a5-b334-d9a05375ba4a"
      },
      "execution_count": 57,
      "outputs": [
        {
          "output_type": "stream",
          "name": "stdout",
          "text": [
            "+--------+------------+----------+------+-----------+-----+---------+----------+----+----------------+\n",
            "|movie_id|vote_average|vote_count|status|    revenue|adult|   budget|popularity| año|        features|\n",
            "+--------+------------+----------+------+-----------+-----+---------+----------+----+----------------+\n",
            "| 4520010|           8|     34495|     1|  825532764|    0|160000000|        83|2010|[2010.0,8.0,1.0]|\n",
            "| 4520011|           8|     32571|     1|  701729206|    0|165000000|       140|2014|[2014.0,8.0,1.0]|\n",
            "| 4520012|           8|     30619|     1| 1004558444|    0|185000000|       130|2008|[2008.0,8.0,1.0]|\n",
            "| 4520013|           7|     29815|     1|-1371261270|    0|237000000|        79|2009|[2009.0,7.0,1.0]|\n",
            "+--------+------------+----------+------+-----------+-----+---------+----------+----+----------------+\n",
            "only showing top 4 rows\n",
            "\n"
          ]
        }
      ]
    },
    {
      "cell_type": "code",
      "source": [
        "df_with_features.printSchema()"
      ],
      "metadata": {
        "colab": {
          "base_uri": "https://localhost:8080/"
        },
        "id": "uUawMyCpfnmj",
        "outputId": "a7f0f103-5209-47fa-c1f4-a57911b727c5"
      },
      "execution_count": 58,
      "outputs": [
        {
          "output_type": "stream",
          "name": "stdout",
          "text": [
            "root\n",
            " |-- movie_id: integer (nullable = true)\n",
            " |-- vote_average: integer (nullable = true)\n",
            " |-- vote_count: integer (nullable = true)\n",
            " |-- status: integer (nullable = false)\n",
            " |-- revenue: integer (nullable = true)\n",
            " |-- adult: integer (nullable = false)\n",
            " |-- budget: integer (nullable = true)\n",
            " |-- popularity: integer (nullable = true)\n",
            " |-- año: integer (nullable = true)\n",
            " |-- features: vector (nullable = true)\n",
            "\n"
          ]
        }
      ]
    },
    {
      "cell_type": "code",
      "source": [
        "selector = ChiSqSelector(numTopFeatures = 3, featuresCol = \"features\", labelCol=\"adult\",\n",
        "                         outputCol=\"selected_features\")\n",
        "df_sel = selector.fit(df_with_features).transform(df_with_features)\n",
        "df_sel.show(5)"
      ],
      "metadata": {
        "colab": {
          "base_uri": "https://localhost:8080/"
        },
        "id": "2WmZ3bPjWu34",
        "outputId": "4e91c34f-4458-4162-c122-0249c4c5b2b5"
      },
      "execution_count": 59,
      "outputs": [
        {
          "output_type": "stream",
          "name": "stdout",
          "text": [
            "+--------+------------+----------+------+-----------+-----+---------+----------+----+----------------+-----------------+\n",
            "|movie_id|vote_average|vote_count|status|    revenue|adult|   budget|popularity| año|        features|selected_features|\n",
            "+--------+------------+----------+------+-----------+-----+---------+----------+----+----------------+-----------------+\n",
            "| 4520010|           8|     34495|     1|  825532764|    0|160000000|        83|2010|[2010.0,8.0,1.0]| [2010.0,8.0,1.0]|\n",
            "| 4520011|           8|     32571|     1|  701729206|    0|165000000|       140|2014|[2014.0,8.0,1.0]| [2014.0,8.0,1.0]|\n",
            "| 4520012|           8|     30619|     1| 1004558444|    0|185000000|       130|2008|[2008.0,8.0,1.0]| [2008.0,8.0,1.0]|\n",
            "| 4520013|           7|     29815|     1|-1371261270|    0|237000000|        79|2009|[2009.0,7.0,1.0]| [2009.0,7.0,1.0]|\n",
            "| 4520014|           7|     29166|     1| 1518815515|    0|220000000|        98|2012|[2012.0,7.0,1.0]| [2012.0,7.0,1.0]|\n",
            "+--------+------------+----------+------+-----------+-----+---------+----------+----+----------------+-----------------+\n",
            "only showing top 5 rows\n",
            "\n"
          ]
        }
      ]
    },
    {
      "cell_type": "code",
      "source": [
        "spark.stop()\n"
      ],
      "metadata": {
        "id": "rosH767na-jp"
      },
      "execution_count": null,
      "outputs": []
    }
  ]
}